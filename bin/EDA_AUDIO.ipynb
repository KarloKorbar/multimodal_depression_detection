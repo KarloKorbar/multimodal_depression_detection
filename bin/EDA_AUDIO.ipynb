{
 "cells": [
  {
   "cell_type": "code",
   "outputs": [],
   "source": [
    "\n",
    "%run PP_AUDIO.ipynb\n"
   ],
   "metadata": {
    "collapsed": false
   }
  },
  {
   "cell_type": "code",
   "outputs": [],
   "source": [
    "# TODO: GENERAL CHECKS FOR STUFF LIKE, HOW BIG IS THE DATASE, IS THE DATASET BALANCED AND SO ON\n",
    "# TODO: ANY FIXES TO THINGS LIKE DATA BALANCING (FINIFHING PREPROCESSING I GUESS) \n"
   ],
   "metadata": {
    "collapsed": false
   }
  },
  {
   "cell_type": "code",
   "outputs": [],
   "source": [
    "# TODO: FUNDEMENTAL FREQUENCY / ENERGY\n"
   ],
   "metadata": {
    "collapsed": false
   }
  },
  {
   "cell_type": "code",
   "outputs": [],
   "source": [
    "# TODO: MFCC\n"
   ],
   "metadata": {
    "collapsed": false
   }
  },
  {
   "cell_type": "code",
   "outputs": [],
   "source": [
    "# TODO: SPEED OF SPEECH (IF AVAILABLE) \n"
   ],
   "metadata": {
    "collapsed": false
   }
  },
  {
   "cell_type": "code",
   "outputs": [],
   "source": [
    "import librosa\n",
    "import librosa.display\n",
    "import numpy as np\n",
    "import pandas as pd\n",
    "import matplotlib.pyplot as plt\n",
    "\n",
    "\n",
    "# Load and analyse the audio.wav file\n",
    "\n",
    "# Load the audio file\n",
    "audio_file = 'AUDIO.wav'\n",
    "y, sr = librosa.load(audio_file, sr=None)\n",
    "\n",
    "# Plot the waveform\n",
    "plt.figure(figsize=(10, 4))\n",
    "librosa.display.waveshow(y, sr=sr)\n",
    "plt.title('Waveform of Audio')\n",
    "plt.xlabel('Time (s)')\n",
    "plt.ylabel('Amplitude')\n",
    "plt.show()\n",
    "\n",
    "# Extract fundamental frequencies (f0) using librosa's piptrack\n",
    "f0, voiced_flag, voiced_probs = librosa.pyin(y, fmin=librosa.note_to_hz('C2'), fmax=librosa.note_to_hz('C7'))\n",
    "\n",
    "# Plot fundamental frequencies\n",
    "plt.figure(figsize=(10, 4))\n",
    "plt.plot(f0, label='Fundamental Frequency (f0)')\n",
    "plt.title('Fundamental Frequencies over Time')\n",
    "plt.xlabel('Frames')\n",
    "plt.ylabel('Frequency (Hz)')\n",
    "plt.show()\n",
    "\n",
    "# Extract MFCCs\n",
    "mfccs = librosa.feature.mfcc(y=y, sr=sr, n_mfcc=13)\n",
    "\n",
    "# Plot MFCCs\n",
    "plt.figure(figsize=(10, 4))\n",
    "librosa.display.specshow(mfccs, x_axis='time', sr=sr)\n",
    "plt.colorbar()\n",
    "plt.title('MFCCs')\n",
    "plt.show()\n",
    "\n",
    "\n",
    "# Load and analyse the formant.csv file\n",
    "\n",
    "# Load the formant data\n",
    "formant_data = pd.read_csv('FORMANT.csv')\n",
    "\n",
    "# Display the first few rows\n",
    "print(formant_data.head())\n",
    "\n",
    "# Visualize formant frequencies (assuming columns 'F1', 'F2', 'F3' for formant data)\n",
    "plt.figure(figsize=(10, 4))\n",
    "plt.plot(formant_data['Time'], formant_data['F1'], label='F1')\n",
    "plt.plot(formant_data['Time'], formant_data['F2'], label='F2')\n",
    "plt.plot(formant_data['Time'], formant_data['F3'], label='F3')\n",
    "plt.title('Formant Frequencies Over Time')\n",
    "plt.xlabel('Time (s)')\n",
    "plt.ylabel('Frequency (Hz)')\n",
    "plt.legend()\n",
    "plt.show()\n",
    "\n",
    "\n",
    "# Load and analyse the Covarep.csv file\n",
    "# Load COVAREP data\n",
    "covarep_data = pd.read_csv('COVAREP.csv')\n",
    "\n",
    "# Display the first few rows\n",
    "print(covarep_data.head())\n",
    "\n",
    "# Plot pitch (assuming column 'Pitch' in the CSV file)\n",
    "plt.figure(figsize=(10, 4))\n",
    "plt.plot(covarep_data['Time'], covarep_data['Pitch'], label='Pitch')\n",
    "plt.title('Pitch Over Time')\n",
    "plt.xlabel('Time (s)')\n",
    "plt.ylabel('Frequency (Hz)')\n",
    "plt.legend()\n",
    "plt.show()\n",
    "\n",
    "# Calculate and plot speed of speech (assuming a column 'SpeechRate')\n",
    "plt.figure(figsize=(10, 4))\n",
    "plt.plot(covarep_data['Time'], covarep_data['SpeechRate'], label='Speed of Speech')\n",
    "plt.title('Speed of Speech Over Time')\n",
    "plt.xlabel('Time (s)')\n",
    "plt.ylabel('Speech Rate (syllables per second)')\n",
    "plt.legend()\n",
    "plt.show()\n",
    "\n",
    "\n"
   ],
   "metadata": {},
   "execution_count": null
  }
 ],
 "metadata": {
  "language_info": {
   "name": "python"
  }
 },
 "nbformat": 4,
 "nbformat_minor": 2
}
