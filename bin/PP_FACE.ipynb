{
 "cells": [
  {
   "cell_type": "code",
   "execution_count": 1,
   "id": "initial_id",
   "metadata": {
    "collapsed": true,
    "ExecuteTime": {
     "end_time": "2024-10-27T16:17:52.145813Z",
     "start_time": "2024-10-27T16:17:51.709037Z"
    }
   },
   "outputs": [],
   "source": [
    "%run UTILS.ipynb\n",
    "\n",
    "import pandas as pd\n",
    "import numpy as np\n",
    "import struct"
   ]
  },
  {
   "cell_type": "code",
   "outputs": [
    {
     "data": {
      "text/plain": "    ID                     CLNF_gaze                     CLNF_AUs  \\\n0  475  data/475_P/475_CLNF_gaze.txt  data/475_P/475_CLNF_AUs.txt   \n\n                      CLNF_hog                     CLNF_features  \\\n0  data/475_P/475_CLNF_hog.bin  data/475_P/475_CLNF_features.txt   \n\n                      CLNF_pose                     CLNF_features3D  \n0  data/475_P/475_CLNF_pose.txt  data/475_P/475_CLNF_features3D.txt  ",
      "text/html": "<div>\n<style scoped>\n    .dataframe tbody tr th:only-of-type {\n        vertical-align: middle;\n    }\n\n    .dataframe tbody tr th {\n        vertical-align: top;\n    }\n\n    .dataframe thead th {\n        text-align: right;\n    }\n</style>\n<table border=\"1\" class=\"dataframe\">\n  <thead>\n    <tr style=\"text-align: right;\">\n      <th></th>\n      <th>ID</th>\n      <th>CLNF_gaze</th>\n      <th>CLNF_AUs</th>\n      <th>CLNF_hog</th>\n      <th>CLNF_features</th>\n      <th>CLNF_pose</th>\n      <th>CLNF_features3D</th>\n    </tr>\n  </thead>\n  <tbody>\n    <tr>\n      <th>0</th>\n      <td>475</td>\n      <td>data/475_P/475_CLNF_gaze.txt</td>\n      <td>data/475_P/475_CLNF_AUs.txt</td>\n      <td>data/475_P/475_CLNF_hog.bin</td>\n      <td>data/475_P/475_CLNF_features.txt</td>\n      <td>data/475_P/475_CLNF_pose.txt</td>\n      <td>data/475_P/475_CLNF_features3D.txt</td>\n    </tr>\n  </tbody>\n</table>\n</div>"
     },
     "execution_count": 2,
     "metadata": {},
     "output_type": "execute_result"
    }
   ],
   "source": [
    "face_files = [\n",
    "    'CLNF_gaze.txt',\n",
    "    'CLNF_AUs.txt',\n",
    "    'CLNF_hog.bin', #TODO: 300 is a .txt file, not a .bin file\n",
    "    'CLNF_features.txt',\n",
    "    'CLNF_pose.txt',\n",
    "    'CLNF_features3D.txt',\n",
    "]\n",
    "\n",
    "df_face_files = retrieve_files(base_directory, face_files, num_folders=1)\n",
    "df_face_files  "
   ],
   "metadata": {
    "collapsed": false,
    "ExecuteTime": {
     "end_time": "2024-10-27T16:17:52.154912Z",
     "start_time": "2024-10-27T16:17:52.146483Z"
    }
   },
   "id": "6266aa1cfcd521e3",
   "execution_count": 2
  },
  {
   "cell_type": "code",
   "outputs": [],
   "source": [
    "# READ HOG FILES\n",
    "def read_hog(filename, batch_size=5000):\n",
    "    all_feature_vectors = []\n",
    "    with open(filename, \"rb\") as f:\n",
    "        num_cols, = struct.unpack(\"i\", f.read(4))\n",
    "        num_rows, = struct.unpack(\"i\", f.read(4))\n",
    "        num_channels, = struct.unpack(\"i\", f.read(4))\n",
    "\n",
    "        # The first four bytes encode a boolean value whether the frame is valid\n",
    "        num_features = 1 + num_rows * num_cols * num_channels\n",
    "        feature_vector = struct.unpack(\"{}f\".format(num_features), f.read(num_features * 4))\n",
    "        feature_vector = np.array(feature_vector).reshape((1, num_features))\n",
    "        all_feature_vectors.append(feature_vector)\n",
    "\n",
    "        # Every frame contains a header of four float values: num_cols, num_rows, num_channels, is_valid\n",
    "        num_floats_per_feature_vector = 4 + num_rows * num_cols * num_channels\n",
    "        # Read in batches of given batch_size\n",
    "        num_floats_to_read = num_floats_per_feature_vector * batch_size\n",
    "        # Multiply by 4 because of float32\n",
    "        num_bytes_to_read = num_floats_to_read * 4\n",
    "\n",
    "        while True:\n",
    "            bytes = f.read(num_bytes_to_read)\n",
    "            # For comparison how many bytes were actually read\n",
    "            num_bytes_read = len(bytes)\n",
    "            if num_bytes_read == 0:\n",
    "                break\n",
    "\n",
    "            assert num_bytes_read % 4 == 0, \"Number of bytes read does not match with float size\"\n",
    "            num_floats_read = num_bytes_read // 4\n",
    "            assert num_floats_read % num_floats_per_feature_vector == 0, \"Number of bytes read does not match with feature vector size\"\n",
    "            num_feature_vectors_read = num_floats_read // num_floats_per_feature_vector\n",
    "\n",
    "            feature_vectors = struct.unpack(\"{}f\".format(num_floats_read), bytes)\n",
    "            # Convert to array\n",
    "            feature_vectors = np.array(feature_vectors).reshape(\n",
    "                (num_feature_vectors_read, num_floats_per_feature_vector))\n",
    "            # Discard the first three values in each row (num_cols, num_rows, num_channels)\n",
    "            feature_vectors = feature_vectors[:, 3:]\n",
    "            # Append to list of all feature vectors that have been read so far\n",
    "            all_feature_vectors.append(feature_vectors)\n",
    "\n",
    "            if num_bytes_read < num_bytes_to_read:\n",
    "                break\n",
    "\n",
    "        # Concatenate batches\n",
    "        all_feature_vectors = np.concatenate(all_feature_vectors, axis=0)\n",
    "\n",
    "        # Split into is-valid and feature vectors\n",
    "        is_valid = all_feature_vectors[:, 0]\n",
    "        hog_features = all_feature_vectors[:, 1:]\n",
    "\n",
    "        # Create DataFrame\n",
    "        df = pd.DataFrame({\n",
    "            'is_valid': is_valid,\n",
    "            'hog_features': list(hog_features)  # Store each row as a list in a DataFrame cell\n",
    "        })\n",
    "\n",
    "        return df"
   ],
   "metadata": {
    "collapsed": false,
    "ExecuteTime": {
     "end_time": "2024-10-27T16:17:52.159775Z",
     "start_time": "2024-10-27T16:17:52.157284Z"
    }
   },
   "id": "2deb54fa9a8adfb5",
   "execution_count": 3
  },
  {
   "cell_type": "code",
   "outputs": [],
   "source": [
    "def preprocess_CLNF_gaze(path): # good\n",
    "    gaze_df = pd.read_csv(path)\n",
    "    return gaze_df\n",
    "\n",
    "def preprocess_CLNF_AUs(path): # good\n",
    "    au_df = pd.read_csv(path)\n",
    "    return au_df\n",
    "\n",
    "def preprocess_CLNF_hog(path): #TODO: 300 is .txt when it should be .bin\n",
    "    df = read_hog(path)\n",
    "    #df = df.values.flatten() # make it 1d so it works with the rest\n",
    "    return df\n",
    "\n",
    "def preprocess_CLNF_features(path):  # good\n",
    "    features_df = pd.read_csv(path)\n",
    "    return features_df\n",
    "\n",
    "def preprocess_CLNF_pose(path):  # good\n",
    "    pose_df = pd.read_csv(path)\n",
    "    return pose_df\n",
    "\n",
    "def preprocess_CLNF_features3D(path):  #good\n",
    "    features3D_df = pd.read_csv(path)\n",
    "    return features3D_df"
   ],
   "metadata": {
    "collapsed": false,
    "ExecuteTime": {
     "end_time": "2024-10-27T16:17:52.162595Z",
     "start_time": "2024-10-27T16:17:52.160556Z"
    }
   },
   "id": "f70ee4ae0a61ce1",
   "execution_count": 4
  },
  {
   "cell_type": "code",
   "outputs": [
    {
     "name": "stdout",
     "output_type": "stream",
     "text": [
      "       is_valid                                       hog_features\n",
      "0           1.0  [0.4000000059604645, 0.4000000059604645, 0.197...\n",
      "1           1.0  [0.3999999761581421, 0.3999999761581421, 0.141...\n",
      "2           1.0  [0.40000003576278687, 0.3326006531715393, 0.14...\n",
      "3           1.0  [0.40000003576278687, 0.33028799295425415, 0.1...\n",
      "4           1.0  [0.3999999761581421, 0.36977845430374146, 0.15...\n",
      "...         ...                                                ...\n",
      "17612       1.0  [0.2243298888206482, 0.0, 0.04327547177672386,...\n",
      "17613       1.0  [0.22342944145202637, 0.0, 0.0, 0.0, 0.0, 0.0,...\n",
      "17614       1.0  [0.23053738474845886, 0.0, 0.10868234187364578...\n",
      "17615       1.0  [0.22569669783115387, 0.0, 0.0, 0.009045038372...\n",
      "17616       1.0  [0.22470024228096008, 0.0, 0.0, 0.0, 0.0, 0.0,...\n",
      "\n",
      "[17617 rows x 2 columns]\n"
     ]
    }
   ],
   "source": [
    "#testing hog\n",
    "\n",
    "clnf_hog = preprocess_CLNF_hog(\"data/475_P/475_CLNF_hog.bin\")\n",
    "print(clnf_hog)\n",
    "\n",
    "#figure out wtf is happening here????\n"
   ],
   "metadata": {
    "collapsed": false,
    "ExecuteTime": {
     "end_time": "2024-10-27T16:17:54.728821Z",
     "start_time": "2024-10-27T16:17:52.163263Z"
    }
   },
   "id": "9bbf963c8138dfc4",
   "execution_count": 5
  },
  {
   "cell_type": "code",
   "outputs": [
    {
     "data": {
      "text/plain": "       CLNFgaze_ x_0  CLNFgaze_ y_0  CLNFgaze_ z_0  CLNFgaze_ x_1  \\\n0           0.019020       0.102879      -0.994512      -0.166677   \n1           0.010488       0.105077      -0.994409      -0.169342   \n2          -0.017352       0.085372      -0.996198      -0.108857   \n3          -0.018266       0.086938      -0.996046      -0.103383   \n4          -0.015493       0.086983      -0.996089      -0.103319   \n...              ...            ...            ...            ...   \n17612       0.012627       0.151015      -0.988451      -0.129446   \n17613       0.013936       0.150270      -0.988547      -0.128132   \n17614       0.025188       0.154982      -0.987596      -0.131980   \n17615       0.014218       0.143477      -0.989551      -0.139226   \n17616       0.013324       0.140784      -0.989951      -0.103774   \n\n       CLNFgaze_ y_1  CLNFgaze_ z_1  CLNFgaze_ x_h0  CLNFgaze_ y_h0  \\\n0           0.134669      -0.976772       -0.203146        0.427972   \n1           0.144812      -0.974860       -0.205663        0.437989   \n2           0.120194      -0.986764       -0.232787        0.427253   \n3           0.119994      -0.987377       -0.236072        0.427561   \n4           0.119921      -0.987393       -0.232449        0.428643   \n...              ...            ...             ...             ...   \n17612       0.132676      -0.982670       -0.277152        0.403833   \n17613       0.141222      -0.981651       -0.279752        0.404866   \n17614       0.141585      -0.981089       -0.265609        0.410126   \n17615       0.136743      -0.980774       -0.279082        0.401677   \n17616       0.156470      -0.982216       -0.284820        0.393496   \n\n       CLNFgaze_ z_h0  CLNFgaze_ x_h1  ...  CLNFfeatures3D_ Z61  \\\n0           -0.880665       -0.375722  ...              661.085   \n1           -0.875139       -0.372074  ...              660.457   \n2           -0.873650       -0.316472  ...              657.360   \n3           -0.872618       -0.313786  ...              656.710   \n4           -0.873059       -0.312821  ...              656.515   \n...               ...             ...  ...                  ...   \n17612       -0.871840       -0.409767  ...              663.700   \n17613       -0.870530       -0.409672  ...              663.162   \n17614       -0.872495       -0.410603  ...              664.279   \n17615       -0.872221       -0.418339  ...              663.436   \n17616       -0.874093       -0.385853  ...              664.655   \n\n       CLNFfeatures3D_ Z62  CLNFfeatures3D_ Z63  CLNFfeatures3D_ Z64  \\\n0                  658.375              656.659              663.261   \n1                  657.665              655.841              662.499   \n2                  654.482              652.691              659.181   \n3                  653.820              652.018              658.557   \n4                  653.652              651.869              658.403   \n...                    ...                  ...                  ...   \n17612              659.822              657.028              661.173   \n17613              659.305              656.482              660.629   \n17614              660.413              657.604              661.697   \n17615              659.615              656.822              661.135   \n17616              660.752              657.952              662.101   \n\n       CLNFfeatures3D_ Z65  CLNFfeatures3D_ Z66  CLNFfeatures3D_ Z67   ID  \\\n0                  655.168              656.344              659.501  475   \n1                  654.080              655.411              658.638  475   \n2                  650.928              652.349              655.616  475   \n3                  650.212              651.638              654.912  475   \n4                  650.050              651.455              654.694  475   \n...                    ...                  ...                  ...  ...   \n17612              656.726              659.404              663.441  475   \n17613              656.209              658.897              662.923  475   \n17614              657.413              660.099              664.129  475   \n17615              656.738              659.388              663.372  475   \n17616              657.788              660.489              664.559  475   \n\n       PHQ_Binary   TIMESTAMP  \n0               0    0.000000  \n1               0    0.033333  \n2               0    0.066667  \n3               0    0.100000  \n4               0    0.133333  \n...           ...         ...  \n17612           0  587.067000  \n17613           0  587.100000  \n17614           0  587.133000  \n17615           0  587.167000  \n17616           0  587.200000  \n\n[17617 rows x 381 columns]",
      "text/html": "<div>\n<style scoped>\n    .dataframe tbody tr th:only-of-type {\n        vertical-align: middle;\n    }\n\n    .dataframe tbody tr th {\n        vertical-align: top;\n    }\n\n    .dataframe thead th {\n        text-align: right;\n    }\n</style>\n<table border=\"1\" class=\"dataframe\">\n  <thead>\n    <tr style=\"text-align: right;\">\n      <th></th>\n      <th>CLNFgaze_ x_0</th>\n      <th>CLNFgaze_ y_0</th>\n      <th>CLNFgaze_ z_0</th>\n      <th>CLNFgaze_ x_1</th>\n      <th>CLNFgaze_ y_1</th>\n      <th>CLNFgaze_ z_1</th>\n      <th>CLNFgaze_ x_h0</th>\n      <th>CLNFgaze_ y_h0</th>\n      <th>CLNFgaze_ z_h0</th>\n      <th>CLNFgaze_ x_h1</th>\n      <th>...</th>\n      <th>CLNFfeatures3D_ Z61</th>\n      <th>CLNFfeatures3D_ Z62</th>\n      <th>CLNFfeatures3D_ Z63</th>\n      <th>CLNFfeatures3D_ Z64</th>\n      <th>CLNFfeatures3D_ Z65</th>\n      <th>CLNFfeatures3D_ Z66</th>\n      <th>CLNFfeatures3D_ Z67</th>\n      <th>ID</th>\n      <th>PHQ_Binary</th>\n      <th>TIMESTAMP</th>\n    </tr>\n  </thead>\n  <tbody>\n    <tr>\n      <th>0</th>\n      <td>0.019020</td>\n      <td>0.102879</td>\n      <td>-0.994512</td>\n      <td>-0.166677</td>\n      <td>0.134669</td>\n      <td>-0.976772</td>\n      <td>-0.203146</td>\n      <td>0.427972</td>\n      <td>-0.880665</td>\n      <td>-0.375722</td>\n      <td>...</td>\n      <td>661.085</td>\n      <td>658.375</td>\n      <td>656.659</td>\n      <td>663.261</td>\n      <td>655.168</td>\n      <td>656.344</td>\n      <td>659.501</td>\n      <td>475</td>\n      <td>0</td>\n      <td>0.000000</td>\n    </tr>\n    <tr>\n      <th>1</th>\n      <td>0.010488</td>\n      <td>0.105077</td>\n      <td>-0.994409</td>\n      <td>-0.169342</td>\n      <td>0.144812</td>\n      <td>-0.974860</td>\n      <td>-0.205663</td>\n      <td>0.437989</td>\n      <td>-0.875139</td>\n      <td>-0.372074</td>\n      <td>...</td>\n      <td>660.457</td>\n      <td>657.665</td>\n      <td>655.841</td>\n      <td>662.499</td>\n      <td>654.080</td>\n      <td>655.411</td>\n      <td>658.638</td>\n      <td>475</td>\n      <td>0</td>\n      <td>0.033333</td>\n    </tr>\n    <tr>\n      <th>2</th>\n      <td>-0.017352</td>\n      <td>0.085372</td>\n      <td>-0.996198</td>\n      <td>-0.108857</td>\n      <td>0.120194</td>\n      <td>-0.986764</td>\n      <td>-0.232787</td>\n      <td>0.427253</td>\n      <td>-0.873650</td>\n      <td>-0.316472</td>\n      <td>...</td>\n      <td>657.360</td>\n      <td>654.482</td>\n      <td>652.691</td>\n      <td>659.181</td>\n      <td>650.928</td>\n      <td>652.349</td>\n      <td>655.616</td>\n      <td>475</td>\n      <td>0</td>\n      <td>0.066667</td>\n    </tr>\n    <tr>\n      <th>3</th>\n      <td>-0.018266</td>\n      <td>0.086938</td>\n      <td>-0.996046</td>\n      <td>-0.103383</td>\n      <td>0.119994</td>\n      <td>-0.987377</td>\n      <td>-0.236072</td>\n      <td>0.427561</td>\n      <td>-0.872618</td>\n      <td>-0.313786</td>\n      <td>...</td>\n      <td>656.710</td>\n      <td>653.820</td>\n      <td>652.018</td>\n      <td>658.557</td>\n      <td>650.212</td>\n      <td>651.638</td>\n      <td>654.912</td>\n      <td>475</td>\n      <td>0</td>\n      <td>0.100000</td>\n    </tr>\n    <tr>\n      <th>4</th>\n      <td>-0.015493</td>\n      <td>0.086983</td>\n      <td>-0.996089</td>\n      <td>-0.103319</td>\n      <td>0.119921</td>\n      <td>-0.987393</td>\n      <td>-0.232449</td>\n      <td>0.428643</td>\n      <td>-0.873059</td>\n      <td>-0.312821</td>\n      <td>...</td>\n      <td>656.515</td>\n      <td>653.652</td>\n      <td>651.869</td>\n      <td>658.403</td>\n      <td>650.050</td>\n      <td>651.455</td>\n      <td>654.694</td>\n      <td>475</td>\n      <td>0</td>\n      <td>0.133333</td>\n    </tr>\n    <tr>\n      <th>...</th>\n      <td>...</td>\n      <td>...</td>\n      <td>...</td>\n      <td>...</td>\n      <td>...</td>\n      <td>...</td>\n      <td>...</td>\n      <td>...</td>\n      <td>...</td>\n      <td>...</td>\n      <td>...</td>\n      <td>...</td>\n      <td>...</td>\n      <td>...</td>\n      <td>...</td>\n      <td>...</td>\n      <td>...</td>\n      <td>...</td>\n      <td>...</td>\n      <td>...</td>\n      <td>...</td>\n    </tr>\n    <tr>\n      <th>17612</th>\n      <td>0.012627</td>\n      <td>0.151015</td>\n      <td>-0.988451</td>\n      <td>-0.129446</td>\n      <td>0.132676</td>\n      <td>-0.982670</td>\n      <td>-0.277152</td>\n      <td>0.403833</td>\n      <td>-0.871840</td>\n      <td>-0.409767</td>\n      <td>...</td>\n      <td>663.700</td>\n      <td>659.822</td>\n      <td>657.028</td>\n      <td>661.173</td>\n      <td>656.726</td>\n      <td>659.404</td>\n      <td>663.441</td>\n      <td>475</td>\n      <td>0</td>\n      <td>587.067000</td>\n    </tr>\n    <tr>\n      <th>17613</th>\n      <td>0.013936</td>\n      <td>0.150270</td>\n      <td>-0.988547</td>\n      <td>-0.128132</td>\n      <td>0.141222</td>\n      <td>-0.981651</td>\n      <td>-0.279752</td>\n      <td>0.404866</td>\n      <td>-0.870530</td>\n      <td>-0.409672</td>\n      <td>...</td>\n      <td>663.162</td>\n      <td>659.305</td>\n      <td>656.482</td>\n      <td>660.629</td>\n      <td>656.209</td>\n      <td>658.897</td>\n      <td>662.923</td>\n      <td>475</td>\n      <td>0</td>\n      <td>587.100000</td>\n    </tr>\n    <tr>\n      <th>17614</th>\n      <td>0.025188</td>\n      <td>0.154982</td>\n      <td>-0.987596</td>\n      <td>-0.131980</td>\n      <td>0.141585</td>\n      <td>-0.981089</td>\n      <td>-0.265609</td>\n      <td>0.410126</td>\n      <td>-0.872495</td>\n      <td>-0.410603</td>\n      <td>...</td>\n      <td>664.279</td>\n      <td>660.413</td>\n      <td>657.604</td>\n      <td>661.697</td>\n      <td>657.413</td>\n      <td>660.099</td>\n      <td>664.129</td>\n      <td>475</td>\n      <td>0</td>\n      <td>587.133000</td>\n    </tr>\n    <tr>\n      <th>17615</th>\n      <td>0.014218</td>\n      <td>0.143477</td>\n      <td>-0.989551</td>\n      <td>-0.139226</td>\n      <td>0.136743</td>\n      <td>-0.980774</td>\n      <td>-0.279082</td>\n      <td>0.401677</td>\n      <td>-0.872221</td>\n      <td>-0.418339</td>\n      <td>...</td>\n      <td>663.436</td>\n      <td>659.615</td>\n      <td>656.822</td>\n      <td>661.135</td>\n      <td>656.738</td>\n      <td>659.388</td>\n      <td>663.372</td>\n      <td>475</td>\n      <td>0</td>\n      <td>587.167000</td>\n    </tr>\n    <tr>\n      <th>17616</th>\n      <td>0.013324</td>\n      <td>0.140784</td>\n      <td>-0.989951</td>\n      <td>-0.103774</td>\n      <td>0.156470</td>\n      <td>-0.982216</td>\n      <td>-0.284820</td>\n      <td>0.393496</td>\n      <td>-0.874093</td>\n      <td>-0.385853</td>\n      <td>...</td>\n      <td>664.655</td>\n      <td>660.752</td>\n      <td>657.952</td>\n      <td>662.101</td>\n      <td>657.788</td>\n      <td>660.489</td>\n      <td>664.559</td>\n      <td>475</td>\n      <td>0</td>\n      <td>587.200000</td>\n    </tr>\n  </tbody>\n</table>\n<p>17617 rows × 381 columns</p>\n</div>"
     },
     "execution_count": 6,
     "metadata": {},
     "output_type": "execute_result"
    }
   ],
   "source": [
    "from IPython.display import clear_output\n",
    "df_face = pd.DataFrame()\n",
    "\n",
    "for i in df_face_files.index:\n",
    "    df_concat = pd.DataFrame()\n",
    "    # preprocess all the features\n",
    "    clnf_gaze = preprocess_CLNF_gaze(df_face_files['CLNF_gaze'][i]).add_prefix('CLNFgaze_')\n",
    "    clnf_aus = preprocess_CLNF_AUs(df_face_files['CLNF_AUs'][i]).add_prefix('CLNFaus_')\n",
    "    # clnf_hog = preprocess_CLNF_hog(df_face_files['CLNF_hog'][i]).add_prefix('CLNFhog_') #TODO: figure out whats going on with this hog thing\n",
    "    clnf_features = preprocess_CLNF_features(df_face_files['CLNF_features'][i]).add_prefix('CLNFfeatures_')\n",
    "    clnf_pose = preprocess_CLNF_pose(df_face_files['CLNF_pose'][i]).add_prefix('CLNFpose_')\n",
    "    clnf_features3d = preprocess_CLNF_features3D(df_face_files['CLNF_features3D'][i]).add_prefix('CLNFfeatures3D_')\n",
    "\n",
    "    # concatenate all the features\n",
    "    df_concat = pd.concat([ clnf_gaze, clnf_aus, clnf_features, clnf_pose, clnf_features3d], axis=1) #TODO: add hog later\n",
    "\n",
    "    # ensure the ID is a valid value and assign it as a column\n",
    "    df_concat['ID'] = df_face_files['ID'].iloc[i]\n",
    "\n",
    "    # add PHQ binary and timestamps, get rid of deplicate / unnecessary columns and add timestamps\n",
    "    df_concat = append_PHQ_Binary(df_concat)\n",
    "    \n",
    "    df_concat = df_concat.drop(columns=[col for col in df_concat.columns if any(substring in col for substring in ['frame', 'confidence', 'success'])])\n",
    "    df_concat['TIMESTAMP'] = df_concat['CLNFgaze_ timestamp']\n",
    "    df_concat = df_concat.drop(columns=[col for col in df_concat.columns if 'timestamp' in col and col != 'TIMESTAMP'])\n",
    "\n",
    "    # append\n",
    "    df_face = df_face._append(df_concat, ignore_index=True)\n",
    "    \n",
    "    clear_output()\n",
    "    print(\"finished processing file\", i)\n",
    "clear_output()\n",
    "df_face\n"
   ],
   "metadata": {
    "collapsed": false
   },
   "id": "8b882d6660406375",
   "execution_count": 6
  },
  {
   "cell_type": "code",
   "outputs": [],
   "source": [
    "df_face.set_index('TIMESTAMP', inplace=True)\n"
   ],
   "metadata": {
    "collapsed": false
   },
   "id": "ea821c39320fcebb"
  },
  {
   "cell_type": "markdown",
   "source": [],
   "metadata": {
    "collapsed": false
   },
   "id": "ea518d78ab2e8344"
  }
 ],
 "metadata": {
  "kernelspec": {
   "display_name": "Python 3",
   "language": "python",
   "name": "python3"
  },
  "language_info": {
   "codemirror_mode": {
    "name": "ipython",
    "version": 2
   },
   "file_extension": ".py",
   "mimetype": "text/x-python",
   "name": "python",
   "nbconvert_exporter": "python",
   "pygments_lexer": "ipython2",
   "version": "2.7.6"
  }
 },
 "nbformat": 4,
 "nbformat_minor": 5
}
