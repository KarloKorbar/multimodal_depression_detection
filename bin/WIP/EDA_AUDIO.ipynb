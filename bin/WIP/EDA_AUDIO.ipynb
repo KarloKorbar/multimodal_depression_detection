{
 "cells": [
  {
   "cell_type": "code",
   "execution_count": 1,
   "metadata": {
    "ExecuteTime": {
     "end_time": "2024-12-03T17:46:25.078369Z",
     "start_time": "2024-12-03T17:46:23.326082Z"
    },
    "collapsed": false
   },
   "outputs": [
    {
     "ename": "ModuleNotFoundError",
     "evalue": "No module named 'util'",
     "output_type": "error",
     "traceback": [
      "\u001b[0;31m---------------------------------------------------------------------------\u001b[0m",
      "\u001b[0;31mModuleNotFoundError\u001b[0m                       Traceback (most recent call last)",
      "Cell \u001b[0;32mIn[1], line 1\u001b[0m\n\u001b[0;32m----> 1\u001b[0m \u001b[38;5;28;01mimport\u001b[39;00m \u001b[38;5;21;01mutil\u001b[39;00m\u001b[38;5;21;01m.\u001b[39;00m\u001b[38;5;21;01mutils\u001b[39;00m \u001b[38;5;28;01mas\u001b[39;00m \u001b[38;5;21;01mutils\u001b[39;00m\n\u001b[1;32m      3\u001b[0m percentage \u001b[38;5;241m=\u001b[39m \u001b[38;5;241m0.02\u001b[39m\n\u001b[1;32m      4\u001b[0m rand_seed \u001b[38;5;241m=\u001b[39m \u001b[38;5;241m42\u001b[39m\n",
      "\u001b[0;31mModuleNotFoundError\u001b[0m: No module named 'util'"
     ]
    }
   ],
   "source": [
    "import util.utils as utils\n",
    "\n",
    "percentage = 0.02\n",
    "rand_seed = 42\n",
    "data_sampling_freq = '10s'\n",
    "rolling_window_size = '10s'\n",
    "\n",
    "df_result = utils.get_binary(percentage, rand_seed)\n",
    "df_audio = utils.get_audio(percentage, rand_seed, data_sampling_freq, rolling_window_size)\n",
    "\n",
    "display(df_audio)\n",
    "display(df_result)"
   ]
  },
  {
   "cell_type": "markdown",
   "metadata": {
    "collapsed": false
   },
   "source": [
    "### EDA"
   ]
  },
  {
   "cell_type": "code",
   "execution_count": null,
   "metadata": {
    "collapsed": false
   },
   "outputs": [],
   "source": [
    "# functional frequency / energy distribution\n"
   ]
  },
  {
   "cell_type": "code",
   "execution_count": null,
   "metadata": {
    "collapsed": false
   },
   "outputs": [],
   "source": [
    "# MFCC\n"
   ]
  },
  {
   "cell_type": "code",
   "execution_count": 0,
   "metadata": {
    "ExecuteTime": {
     "end_time": "2024-11-30T17:46:33.649207Z",
     "start_time": "2024-11-30T17:46:33.642072Z"
    },
    "collapsed": false
   },
   "outputs": [],
   "source": [
    "# speed of speech (if available)\n"
   ]
  }
 ],
 "metadata": {
  "kernelspec": {
   "display_name": ".venv",
   "language": "python",
   "name": "python3"
  },
  "language_info": {
   "codemirror_mode": {
    "name": "ipython",
    "version": 3
   },
   "file_extension": ".py",
   "mimetype": "text/x-python",
   "name": "python",
   "nbconvert_exporter": "python",
   "pygments_lexer": "ipython3",
   "version": "3.9.6"
  }
 },
 "nbformat": 4,
 "nbformat_minor": 2
}
