{
 "cells": [
  {
   "cell_type": "code",
   "outputs": [],
   "source": [
    "\n",
    "%run PP_TEXT.ipynb\n"
   ],
   "metadata": {
    "collapsed": false
   }
  },
  {
   "cell_type": "code",
   "outputs": [],
   "source": [
    "# TODO: GENERAL CHECKS FOR STUFF LIKE, HOW BIG IS THE DATASE, IS THE DATASET BALANCED AND SO ON\n",
    "# TODO: ANY FIXES TO THINGS LIKE DATA BALANCING (FINIFHING PREPROCESSING I GUESS) \n"
   ],
   "metadata": {
    "collapsed": false
   }
  },
  {
   "cell_type": "markdown",
   "source": [
    "## Word Cloud for the text data"
   ],
   "metadata": {
    "collapsed": false
   }
  },
  {
   "cell_type": "code",
   "outputs": [],
   "source": [
    "text = \" \".join(df['transcript'])\n",
    "wordcloud = WordCloud(width=800, height=400, background_color='white').generate(text)\n",
    "\n",
    "plt.figure(figsize=(10, 5))\n",
    "plt.imshow(wordcloud, interpolation='bilinear')\n",
    "plt.axis('off')\n",
    "plt.show()"
   ],
   "metadata": {
    "collapsed": false
   },
   "execution_count": 0
  },
  {
   "cell_type": "markdown",
   "source": [
    "## Length of words"
   ],
   "metadata": {
    "collapsed": false
   }
  },
  {
   "cell_type": "code",
   "outputs": [],
   "source": [
    "X_train_lengths = df['transcript'].apply(len)\n",
    "plt.figure(figsize=(10, 5))\n",
    "sns.histplot(X_train_lengths, kde=True)\n",
    "plt.title('Distribution of Text Lengths')\n",
    "plt.xlabel('Length of Text')\n",
    "plt.ylabel('Frequency')\n",
    "plt.show()"
   ],
   "metadata": {
    "collapsed": false
   },
   "execution_count": 0
  },
  {
   "cell_type": "markdown",
   "source": [
    "## Most common tokens"
   ],
   "metadata": {
    "collapsed": false
   }
  },
  {
   "cell_type": "code",
   "outputs": [],
   "source": [
    "nltk.download('punkt')\n",
    "all_tokens = nltk.word_tokenize(text)\n",
    "common_tokens = Counter(all_tokens).most_common(20)\n",
    "\n",
    "tokens_df = pd.DataFrame(common_tokens, columns=['Token', 'Count'])\n",
    "\n",
    "plt.figure(figsize=(10, 5))\n",
    "sns.barplot(data=tokens_df, x='Token', y='Count')\n",
    "plt.title('Most Common Tokens')\n",
    "plt.xlabel('Token')\n",
    "plt.ylabel('Count')\n",
    "plt.xticks(rotation=45)\n",
    "plt.show()"
   ],
   "metadata": {},
   "execution_count": 0
  }
 ],
 "metadata": {
  "language_info": {
   "name": "python"
  }
 },
 "nbformat": 4,
 "nbformat_minor": 2
}
