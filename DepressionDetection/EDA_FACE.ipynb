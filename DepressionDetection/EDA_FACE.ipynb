{
 "cells": [
  {
   "cell_type": "code",
   "outputs": [],
   "source": [
    "\n",
    "%run PP_FACE.ipynb\n"
   ],
   "metadata": {
    "collapsed": false
   }
  },
  {
   "cell_type": "code",
   "outputs": [],
   "source": [
    "# TODO: GENERAL CHECKS FOR STUFF LIKE, HOW BIG IS THE DATASE, IS THE DATASET BALANCED AND SO ON\n",
    "# TODO: ANY FIXES TO THINGS LIKE DATA BALANCING (FINIFHING PREPROCESSING I GUESS) \n"
   ],
   "metadata": {
    "collapsed": false
   }
  },
  {
   "cell_type": "code",
   "outputs": [],
   "source": [
    "# TODO: EIGENFACES\n"
   ],
   "metadata": {
    "collapsed": false
   }
  },
  {
   "cell_type": "code",
   "outputs": [],
   "source": [
    "# TODO: DISTRIBUTION OF LANDMARKS / ACTION UNITS \n"
   ],
   "metadata": {
    "collapsed": false
   }
  },
  {
   "cell_type": "code",
   "outputs": [],
   "source": [
    "import numpy as np\n",
    "import pandas as pd\n",
    "import matplotlib.pyplot as plt\n",
    "import seaborn as sns\n",
    "from sklearn.decomposition import PCA\n",
    "\n",
    "# Load the data from text files\n",
    "gaze_data = pd.read_csv('CLNF_gaze.txt', delim_whitespace=True)\n",
    "au_data = pd.read_csv('CLNF_AUs.txt', delim_whitespace=True)\n",
    "features_2d = pd.read_csv('CLNF_features.txt', delim_whitespace=True)\n",
    "pose_data = pd.read_csv('CLNF_pose.txt', delim_whitespace=True)\n",
    "features_3d = pd.read_csv('CLNF_features3D.txt', delim_whitespace=True)\n",
    "\n",
    "# Reading binary file (HOG features)\n",
    "def read_hog_bin_file(filename):\n",
    "    with open(filename, 'rb') as f:\n",
    "        n_cols = np.fromfile(f, dtype=np.int32, count=1)[0]\n",
    "        hog_features = np.fromfile(f, dtype=np.float32)\n",
    "        hog_features = hog_features[1:].reshape(-1, n_cols)\n",
    "    return hog_features\n",
    "\n",
    "hog_features = read_hog_bin_file('CLNF_hog.bin')\n",
    "\n",
    "# Analyzing gaze data\n",
    "plt.figure(figsize=(10, 6))\n",
    "sns.histplot(gaze_data, kde=True)\n",
    "plt.title('Distribution of Gaze Data')\n",
    "plt.show()\n",
    "\n",
    "# Analyzing Action Units (AUs)\n",
    "plt.figure(figsize=(12, 8))\n",
    "sns.boxplot(data=au_data)\n",
    "plt.title('Box Plot of Action Units (AUs)')\n",
    "plt.xticks(rotation=90)\n",
    "plt.show()\n",
    "\n",
    "# Analyzing 2D facial landmarks\n",
    "plt.figure(figsize=(10, 6))\n",
    "sns.scatterplot(x=features_2d.columns[::2], y=features_2d.columns[1::2], data=features_2d)\n",
    "plt.title('2D Facial Landmarks')\n",
    "plt.show()\n",
    "\n",
    "# Analyzing 3D facial landmarks\n",
    "fig = plt.figure(figsize=(10, 8))\n",
    "ax = fig.add_subplot(111, projection='3d')\n",
    "ax.scatter(features_3d.iloc[:, 0], features_3d.iloc[:, 1], features_3d.iloc[:, 2])\n",
    "ax.set_title('3D Facial Landmarks')\n",
    "plt.show()\n",
    "\n",
    "# Analyzing head pose\n",
    "plt.figure(figsize=(10, 6))\n",
    "sns.lineplot(data=pose_data)\n",
    "plt.title('Head Pose Analysis (Yaw, Pitch, Roll)')\n",
    "plt.show()\n",
    "\n",
    "# Performing PCA on HOG features to extract eigenfaces\n",
    "pca = PCA(n_components=10)  # Number of principal components to keep\n",
    "principal_components = pca.fit_transform(hog_features)\n",
    "explained_variance = pca.explained_variance_ratio_\n",
    "\n",
    "plt.figure(figsize=(10, 6))\n",
    "plt.bar(range(1, 11), explained_variance * 100)\n",
    "plt.xlabel('Principal Components')\n",
    "plt.ylabel('Explained Variance (%)')\n",
    "plt.title('Explained Variance of Principal Components (Eigenfaces)')\n",
    "plt.show()\n",
    "\n",
    "# Visualizing the top eigenfaces\n",
    "eigenfaces = pca.components_.reshape((10, int(np.sqrt(pca.components_.shape[1])), int(np.sqrt(pca.components_.shape[1]))))\n",
    "fig, axes = plt.subplots(2, 5, figsize=(15, 6))\n",
    "for i, ax in enumerate(axes.flat):\n",
    "    ax.imshow(eigenfaces[i], cmap='gray')\n",
    "    ax.set_title(f'Eigenface {i+1}')\n",
    "plt.tight_layout()\n",
    "plt.show()\n"
   ],
   "metadata": {},
   "execution_count": 0
  }
 ],
 "metadata": {
  "language_info": {
   "name": "python"
  }
 },
 "nbformat": 4,
 "nbformat_minor": 2
}
