{
 "cells": [
  {
   "cell_type": "code",
   "execution_count": 1,
   "id": "28d17b74d848bda3",
   "metadata": {
    "collapsed": false,
    "ExecuteTime": {
     "end_time": "2024-07-27T19:54:41.789117Z",
     "start_time": "2024-07-27T19:54:41.592896Z"
    }
   },
   "outputs": [],
   "source": [
    "import os\n",
    "import librosa\n",
    "import numpy as np\n",
    "import pandas as pd\n",
    "from sklearn.model_selection import train_test_split\n",
    "from sklearn.pipeline import Pipeline\n",
    "from sklearn.preprocessing import StandardScaler\n",
    "from sklearn.ensemble import RandomForestClassifier\n",
    "from sklearn.model_selection import GridSearchCV\n",
    "from sklearn.metrics import classification_report, confusion_matrix\n",
    "\n",
    "\n",
    "rand_seed = 12"
   ]
  },
  {
   "cell_type": "markdown",
   "id": "95efa06ecc93a115",
   "metadata": {
    "collapsed": false
   },
   "source": [
    "\n",
    "# Preprocessing"
   ]
  },
  {
   "cell_type": "code",
   "execution_count": 2,
   "id": "initial_id",
   "metadata": {
    "collapsed": true,
    "ExecuteTime": {
     "end_time": "2024-07-27T19:54:43.516729Z",
     "start_time": "2024-07-27T19:54:41.790320Z"
    }
   },
   "outputs": [],
   "source": [
    "# Load the audio file\n",
    "audio_path = 'data_audio/300_AUDIO.wav'\n",
    "y, sr = librosa.load(audio_path)\n",
    "\n",
    "# Extract audio features\n",
    "mfccs = librosa.feature.mfcc(y=y, sr=sr, n_mfcc=13)\n",
    "chroma = librosa.feature.chroma_stft(y=y, sr=sr)\n",
    "zcr = librosa.feature.zero_crossing_rate(y)\n",
    "\n",
    "# Aggregate the features (mean, std, etc.)\n",
    "mfccs_mean = np.mean(mfccs, axis=1)\n",
    "chroma_mean = np.mean(chroma, axis=1)\n",
    "zcr_mean = np.mean(zcr, axis=1)\n",
    "\n",
    "audio_features = np.concatenate((mfccs_mean, chroma_mean, zcr_mean), axis=0)\n"
   ]
  },
  {
   "cell_type": "code",
   "execution_count": 14,
   "id": "6313aa7d2406a872",
   "metadata": {
    "collapsed": false,
    "ExecuteTime": {
     "end_time": "2024-07-27T19:58:53.675125Z",
     "start_time": "2024-07-27T19:58:53.457074Z"
    }
   },
   "outputs": [
    {
     "name": "stdout",
     "output_type": "stream",
     "text": [
      "[-440.24969482   86.91956329    6.044837   ... 2410.         3773.5\n",
      " 4734.5       ]\n"
     ]
    }
   ],
   "source": [
    "# Load COVAREP features\n",
    "covarep_path = 'data_audio/300_COVAREP.csv'\n",
    "covarep_features = pd.read_csv(covarep_path)\n",
    "\n",
    "# Load FORMANT features\n",
    "formant_path = 'data_audio/300_FORMANT.csv'\n",
    "formant_features = pd.read_csv(formant_path)\n",
    "\n",
    "# Combine features\n",
    "all_features = np.concatenate((audio_features, covarep_features.values.flatten(), formant_features.values.flatten()), axis=0)\n"
   ]
  },
  {
   "cell_type": "markdown",
   "id": "3aa74dbb",
   "metadata": {},
   "source": [
    "# Exploratory data analysis"
   ]
  },
  {
   "cell_type": "code",
   "execution_count": 4,
   "id": "fd8dda5e",
   "metadata": {
    "ExecuteTime": {
     "end_time": "2024-07-27T19:54:43.753883Z",
     "start_time": "2024-07-27T19:54:43.751170Z"
    }
   },
   "outputs": [
    {
     "name": "stdout",
     "output_type": "stream",
     "text": [
      "Audio features shape: (26,)\n",
      "COVAREP features shape: (64850, 74)\n",
      "FORMANT features shape: (64849, 5)\n",
      "Combined features shape: (5123171,)\n"
     ]
    }
   ],
   "source": [
    "# Print the shape of the features\n",
    "print(f'Audio features shape: {audio_features.shape}')\n",
    "print(f'COVAREP features shape: {covarep_features.shape}')\n",
    "print(f'FORMANT features shape: {formant_features.shape}')\n",
    "print(f'Combined features shape: {all_features.shape}')"
   ]
  },
  {
   "cell_type": "markdown",
   "id": "40563ded",
   "metadata": {},
   "source": [
    "# Train test split"
   ]
  },
  {
   "cell_type": "code",
   "execution_count": 5,
   "id": "d22406e8",
   "metadata": {
    "ExecuteTime": {
     "end_time": "2024-07-27T19:54:43.780488Z",
     "start_time": "2024-07-27T19:54:43.754296Z"
    }
   },
   "outputs": [],
   "source": [
    "# Assume we have a dataset with more samples\n",
    "# Example: features = np.array([all_features_1, all_features_2, ...])\n",
    "# Example: labels = np.array([label_1, label_2, ...])\n",
    "\n",
    "features = np.array([all_features, all_features, all_features])  # Replace with actual feature array\n",
    "labels = np.array([0, 1, 0])  # Replace with actual labels\n",
    "\n",
    "\n",
    "# Split the dataset\n",
    "X_train, X_test, y_train, y_test = train_test_split(features, labels, test_size=0.2, random_state=rand_seed)\n"
   ]
  },
  {
   "cell_type": "markdown",
   "id": "82a6e7d7",
   "metadata": {},
   "source": [
    "# Creating the pipeline & hyperparameter tuning"
   ]
  },
  {
   "cell_type": "code",
   "execution_count": 19,
   "id": "ce8bde44",
   "metadata": {
    "ExecuteTime": {
     "end_time": "2024-07-27T20:01:58.663206Z",
     "start_time": "2024-07-27T20:01:58.635223Z"
    }
   },
   "outputs": [
    {
     "ename": "ValueError",
     "evalue": "k-fold cross-validation requires at least one train/test split by setting n_splits=2 or more, got n_splits=1.",
     "output_type": "error",
     "traceback": [
      "\u001B[0;31m---------------------------------------------------------------------------\u001B[0m",
      "\u001B[0;31mValueError\u001B[0m                                Traceback (most recent call last)",
      "Cell \u001B[0;32mIn[19], line 17\u001B[0m\n\u001B[1;32m     10\u001B[0m param_grid \u001B[38;5;241m=\u001B[39m {\n\u001B[1;32m     11\u001B[0m     \u001B[38;5;124m'\u001B[39m\u001B[38;5;124mclassifier__n_estimators\u001B[39m\u001B[38;5;124m'\u001B[39m: [\u001B[38;5;241m50\u001B[39m, \u001B[38;5;241m100\u001B[39m, \u001B[38;5;241m200\u001B[39m],\n\u001B[1;32m     12\u001B[0m     \u001B[38;5;124m'\u001B[39m\u001B[38;5;124mclassifier__max_depth\u001B[39m\u001B[38;5;124m'\u001B[39m: [\u001B[38;5;28;01mNone\u001B[39;00m, \u001B[38;5;241m10\u001B[39m, \u001B[38;5;241m20\u001B[39m, \u001B[38;5;241m30\u001B[39m],\n\u001B[1;32m     13\u001B[0m     \u001B[38;5;124m'\u001B[39m\u001B[38;5;124mclassifier__min_samples_split\u001B[39m\u001B[38;5;124m'\u001B[39m: [\u001B[38;5;241m2\u001B[39m, \u001B[38;5;241m5\u001B[39m, \u001B[38;5;241m10\u001B[39m]\n\u001B[1;32m     14\u001B[0m }\n\u001B[1;32m     16\u001B[0m \u001B[38;5;66;03m# Use StratifiedKFold for cross-validation\u001B[39;00m\n\u001B[0;32m---> 17\u001B[0m stratified_kf \u001B[38;5;241m=\u001B[39m \u001B[43mStratifiedKFold\u001B[49m\u001B[43m(\u001B[49m\u001B[43mn_splits\u001B[49m\u001B[38;5;241;43m=\u001B[39;49m\u001B[38;5;241;43m1\u001B[39;49m\u001B[43m)\u001B[49m\n\u001B[1;32m     19\u001B[0m \u001B[38;5;66;03m# Perform grid search\u001B[39;00m\n\u001B[1;32m     20\u001B[0m grid_search \u001B[38;5;241m=\u001B[39m GridSearchCV(pipeline, param_grid, cv\u001B[38;5;241m=\u001B[39mstratified_kf, scoring\u001B[38;5;241m=\u001B[39m\u001B[38;5;124m'\u001B[39m\u001B[38;5;124maccuracy\u001B[39m\u001B[38;5;124m'\u001B[39m)\n",
      "File \u001B[0;32m~/College/Diplomski/Code/multimodal_depression_detection/DepressionDetection/.venv/lib/python3.9/site-packages/sklearn/model_selection/_split.py:744\u001B[0m, in \u001B[0;36mStratifiedKFold.__init__\u001B[0;34m(self, n_splits, shuffle, random_state)\u001B[0m\n\u001B[1;32m    743\u001B[0m \u001B[38;5;28;01mdef\u001B[39;00m \u001B[38;5;21m__init__\u001B[39m(\u001B[38;5;28mself\u001B[39m, n_splits\u001B[38;5;241m=\u001B[39m\u001B[38;5;241m5\u001B[39m, \u001B[38;5;241m*\u001B[39m, shuffle\u001B[38;5;241m=\u001B[39m\u001B[38;5;28;01mFalse\u001B[39;00m, random_state\u001B[38;5;241m=\u001B[39m\u001B[38;5;28;01mNone\u001B[39;00m):\n\u001B[0;32m--> 744\u001B[0m     \u001B[38;5;28;43msuper\u001B[39;49m\u001B[43m(\u001B[49m\u001B[43m)\u001B[49m\u001B[38;5;241;43m.\u001B[39;49m\u001B[38;5;21;43m__init__\u001B[39;49m\u001B[43m(\u001B[49m\u001B[43mn_splits\u001B[49m\u001B[38;5;241;43m=\u001B[39;49m\u001B[43mn_splits\u001B[49m\u001B[43m,\u001B[49m\u001B[43m \u001B[49m\u001B[43mshuffle\u001B[49m\u001B[38;5;241;43m=\u001B[39;49m\u001B[43mshuffle\u001B[49m\u001B[43m,\u001B[49m\u001B[43m \u001B[49m\u001B[43mrandom_state\u001B[49m\u001B[38;5;241;43m=\u001B[39;49m\u001B[43mrandom_state\u001B[49m\u001B[43m)\u001B[49m\n",
      "File \u001B[0;32m~/College/Diplomski/Code/multimodal_depression_detection/DepressionDetection/.venv/lib/python3.9/site-packages/sklearn/model_selection/_split.py:360\u001B[0m, in \u001B[0;36m_BaseKFold.__init__\u001B[0;34m(self, n_splits, shuffle, random_state)\u001B[0m\n\u001B[1;32m    357\u001B[0m n_splits \u001B[38;5;241m=\u001B[39m \u001B[38;5;28mint\u001B[39m(n_splits)\n\u001B[1;32m    359\u001B[0m \u001B[38;5;28;01mif\u001B[39;00m n_splits \u001B[38;5;241m<\u001B[39m\u001B[38;5;241m=\u001B[39m \u001B[38;5;241m1\u001B[39m:\n\u001B[0;32m--> 360\u001B[0m     \u001B[38;5;28;01mraise\u001B[39;00m \u001B[38;5;167;01mValueError\u001B[39;00m(\n\u001B[1;32m    361\u001B[0m         \u001B[38;5;124m\"\u001B[39m\u001B[38;5;124mk-fold cross-validation requires at least one\u001B[39m\u001B[38;5;124m\"\u001B[39m\n\u001B[1;32m    362\u001B[0m         \u001B[38;5;124m\"\u001B[39m\u001B[38;5;124m train/test split by setting n_splits=2 or more,\u001B[39m\u001B[38;5;124m\"\u001B[39m\n\u001B[1;32m    363\u001B[0m         \u001B[38;5;124m\"\u001B[39m\u001B[38;5;124m got n_splits=\u001B[39m\u001B[38;5;132;01m{0}\u001B[39;00m\u001B[38;5;124m.\u001B[39m\u001B[38;5;124m\"\u001B[39m\u001B[38;5;241m.\u001B[39mformat(n_splits)\n\u001B[1;32m    364\u001B[0m     )\n\u001B[1;32m    366\u001B[0m \u001B[38;5;28;01mif\u001B[39;00m \u001B[38;5;129;01mnot\u001B[39;00m \u001B[38;5;28misinstance\u001B[39m(shuffle, \u001B[38;5;28mbool\u001B[39m):\n\u001B[1;32m    367\u001B[0m     \u001B[38;5;28;01mraise\u001B[39;00m \u001B[38;5;167;01mTypeError\u001B[39;00m(\u001B[38;5;124m\"\u001B[39m\u001B[38;5;124mshuffle must be True or False; got \u001B[39m\u001B[38;5;132;01m{0}\u001B[39;00m\u001B[38;5;124m\"\u001B[39m\u001B[38;5;241m.\u001B[39mformat(shuffle))\n",
      "\u001B[0;31mValueError\u001B[0m: k-fold cross-validation requires at least one train/test split by setting n_splits=2 or more, got n_splits=1."
     ]
    }
   ],
   "source": [
    "from sklearn.model_selection import StratifiedKFold\n",
    "\n",
    "# Define the pipeline\n",
    "pipeline = Pipeline([\n",
    "    ('scaler', StandardScaler()),\n",
    "    ('classifier', RandomForestClassifier())\n",
    "])\n",
    "\n",
    "# Define the hyperparameters\n",
    "param_grid = {\n",
    "    'classifier__n_estimators': [50, 100, 200],\n",
    "    'classifier__max_depth': [None, 10, 20, 30],\n",
    "    'classifier__min_samples_split': [2, 5, 10]\n",
    "}\n",
    "\n",
    "# Use StratifiedKFold for cross-validation\n",
    "stratified_kf = StratifiedKFold(n_splits=2)\n",
    "\n",
    "# Perform grid search\n",
    "grid_search = GridSearchCV(pipeline, param_grid, cv=stratified_kf, scoring='accuracy')\n",
    "grid_search.fit(X_train, y_train)\n",
    "\n",
    "\n",
    "# Best parameters\n",
    "best_params = grid_search.best_params_\n",
    "print(f'Best parameters: {best_params}')\n"
   ]
  },
  {
   "cell_type": "code",
   "outputs": [],
   "source": [
    "# Define the pipeline\n",
    "pipeline = Pipeline([\n",
    "    ('scaler', StandardScaler()),\n",
    "    ('classifier', RandomForestClassifier())\n",
    "])\n",
    "\n",
    "# Define the hyperparameters\n",
    "param_grid = {\n",
    "    'classifier__n_estimators': [50, 100, 200],\n",
    "    'classifier__max_depth': [None, 10, 20, 30],\n",
    "    'classifier__min_samples_split': [2, 5, 10]\n",
    "}\n",
    "\n",
    "# Perform grid search\n",
    "grid_search = GridSearchCV(pipeline, param_grid, cv=5, scoring='accuracy')\n",
    "grid_search.fit(X_train, y_train)\n",
    "\n",
    "# Best parameters\n",
    "best_params = grid_search.best_params_\n",
    "print(f'Best parameters: {best_params}')\n"
   ],
   "metadata": {
    "collapsed": false,
    "ExecuteTime": {
     "start_time": "2024-07-27T19:54:44.022280Z"
    }
   },
   "id": "c94d3b96c198f4c8",
   "execution_count": null
  },
  {
   "cell_type": "markdown",
   "id": "b425669d",
   "metadata": {},
   "source": [
    "# Evaluation"
   ]
  },
  {
   "cell_type": "code",
   "execution_count": null,
   "id": "a47a4fe4",
   "metadata": {
    "ExecuteTime": {
     "start_time": "2024-07-27T19:54:44.023030Z"
    }
   },
   "outputs": [],
   "source": [
    "# Make predictions\n",
    "y_pred = grid_search.predict(X_test)\n",
    "\n",
    "# Evaluation\n",
    "accuracy = grid_search.score(X_test, y_test)\n",
    "print(f'Model Accuracy: {accuracy * 100:.2f}%')\n",
    "\n",
    "# Classification report\n",
    "print('Classification Report:')\n",
    "print(classification_report(y_test, y_pred))\n",
    "\n",
    "# Confusion matrix\n",
    "conf_matrix = confusion_matrix(y_test, y_pred)\n",
    "print('Confusion Matrix:')\n",
    "print(conf_matrix)\n"
   ]
  }
 ],
 "metadata": {
  "kernelspec": {
   "display_name": "Python 3",
   "language": "python",
   "name": "python3"
  },
  "language_info": {
   "codemirror_mode": {
    "name": "ipython",
    "version": 3
   },
   "file_extension": ".py",
   "mimetype": "text/x-python",
   "name": "python",
   "nbconvert_exporter": "python",
   "pygments_lexer": "ipython3",
   "version": "3.9.6"
  }
 },
 "nbformat": 4,
 "nbformat_minor": 5
}
