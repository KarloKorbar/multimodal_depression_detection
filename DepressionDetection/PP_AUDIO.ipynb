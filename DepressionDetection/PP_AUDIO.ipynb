{
 "cells": [
  {
   "cell_type": "code",
   "execution_count": 84,
   "id": "initial_id",
   "metadata": {
    "collapsed": true,
    "ExecuteTime": {
     "end_time": "2024-10-24T16:17:41.577371Z",
     "start_time": "2024-10-24T16:17:41.565070Z"
    }
   },
   "outputs": [],
   "source": [
    "%run UTILS.ipynb\n",
    "\n",
    "import librosa\n",
    "import numpy as np"
   ]
  },
  {
   "cell_type": "code",
   "outputs": [
    {
     "data": {
      "text/plain": "    ID                     AUDIO                     FORMANT  \\\n0  475  data/475_P/475_AUDIO.wav  data/475_P/475_FORMANT.csv   \n\n                      COVAREP  \n0  data/475_P/475_COVAREP.csv  ",
      "text/html": "<div>\n<style scoped>\n    .dataframe tbody tr th:only-of-type {\n        vertical-align: middle;\n    }\n\n    .dataframe tbody tr th {\n        vertical-align: top;\n    }\n\n    .dataframe thead th {\n        text-align: right;\n    }\n</style>\n<table border=\"1\" class=\"dataframe\">\n  <thead>\n    <tr style=\"text-align: right;\">\n      <th></th>\n      <th>ID</th>\n      <th>AUDIO</th>\n      <th>FORMANT</th>\n      <th>COVAREP</th>\n    </tr>\n  </thead>\n  <tbody>\n    <tr>\n      <th>0</th>\n      <td>475</td>\n      <td>data/475_P/475_AUDIO.wav</td>\n      <td>data/475_P/475_FORMANT.csv</td>\n      <td>data/475_P/475_COVAREP.csv</td>\n    </tr>\n  </tbody>\n</table>\n</div>"
     },
     "execution_count": 85,
     "metadata": {},
     "output_type": "execute_result"
    }
   ],
   "source": [
    "audio_files = [\n",
    "    'AUDIO.wav',\n",
    "    'FORMANT.csv',\n",
    "    'COVAREP.csv'\n",
    "]\n",
    "\n",
    "df_audio_files = retrieve_files(base_directory, audio_files, num_folders=1)\n",
    "df_audio_files"
   ],
   "metadata": {
    "collapsed": false,
    "ExecuteTime": {
     "end_time": "2024-10-24T16:17:41.583564Z",
     "start_time": "2024-10-24T16:17:41.574777Z"
    }
   },
   "id": "40e5048baf3cae",
   "execution_count": 85
  },
  {
   "cell_type": "code",
   "outputs": [],
   "source": [
    "def add_timestamps(df, sampling_rate=100):\n",
    "    # Calculate time interval based on the sampling rate\n",
    "    time_interval = 1 / sampling_rate\n",
    "    \n",
    "    # Generate timestamps based on the number of samples\n",
    "    num_samples = len(df)\n",
    "    timestamps = np.arange(0, num_samples * time_interval, time_interval)\n",
    "    \n",
    "    # Add the timestamps as a new column in the DataFrame\n",
    "    df['TIMESTAMP'] = timestamps[:num_samples]\n",
    "    \n",
    "    return df"
   ],
   "metadata": {
    "collapsed": false,
    "ExecuteTime": {
     "end_time": "2024-10-24T16:17:41.586148Z",
     "start_time": "2024-10-24T16:17:41.584120Z"
    }
   },
   "id": "2326f88018f85b10",
   "execution_count": 86
  },
  {
   "cell_type": "code",
   "outputs": [],
   "source": [
    "def preprocess_AUDIO(path):\n",
    "    # this is incorrect, i need to turn this into a dataframe with correctly labled shitt\n",
    "    y, sr = librosa.load(path, sr=None)\n",
    "\n",
    "    # Extract various features\n",
    "    mfccs = librosa.feature.mfcc(y=y, sr=sr, n_mfcc=13)\n",
    "    chroma = librosa.feature.chroma_stft(y=y, sr=sr)\n",
    "    zcr = librosa.feature.zero_crossing_rate(y)\n",
    "\n",
    "    # Aggregate the features\n",
    "    mfccs_mean = pd.DataFrame(np.mean(mfccs, axis=1)).add_prefix('MFCCSmean_')\n",
    "    chroma_mean = pd.DataFrame(np.mean(chroma, axis=1)).add_prefix('CHROMAmean_')\n",
    "    zcr_mean = pd.DataFrame(np.mean(zcr, axis=1)).add_prefix('ZCRmean_')\n",
    "    \n",
    "    audio_features = pd.DataFrame()\n",
    "    \n",
    "    audio_features = pd.concat([audio_features, mfccs_mean], axis=1)\n",
    "    audio_features = pd.concat([audio_features, chroma_mean], axis=1)\n",
    "    audio_features = pd.concat([audio_features, zcr_mean], axis=1)\n",
    "    \n",
    "    return audio_features\n",
    "\n",
    "def preprocess_FORMANT(path):\n",
    "    formant_features = pd.read_csv(path, header=None)\n",
    "    FORMANT_FEATURES = ['F1', 'F2', 'F3', 'F4', 'F5']\n",
    "    formant_features.columns = FORMANT_FEATURES\n",
    "    formant_features\n",
    "    return formant_features\n",
    "\n",
    "\n",
    "def preprocess_COVAREP(path):\n",
    "    covarep_features = pd.read_csv(path, header=None)\n",
    "    COVAREP_FEATURES = [\n",
    "        'F0',\n",
    "        'VUV',\n",
    "        'NAQ',\n",
    "        'QOQ',\n",
    "        'H1H2',\n",
    "        'PSP',\n",
    "        'MDQ',\n",
    "        'peakSlope',\n",
    "        'Rd',\n",
    "        'Rd_conf',\n",
    "        'creak',\n",
    "\n",
    "        'MCEP_0',\n",
    "        'MCEP_1',\n",
    "        'MCEP_2',\n",
    "        'MCEP_3',\n",
    "        'MCEP_4',\n",
    "        'MCEP_5',\n",
    "        'MCEP_6',\n",
    "        'MCEP_7',\n",
    "        'MCEP_8',\n",
    "        'MCEP_9',\n",
    "        'MCEP_10',\n",
    "        'MCEP_11',\n",
    "        'MCEP_12',\n",
    "        'MCEP_13',\n",
    "        'MCEP_14',\n",
    "        'MCEP_15',\n",
    "        'MCEP_16',\n",
    "        'MCEP_17',\n",
    "        'MCEP_18',\n",
    "        'MCEP_19',\n",
    "        'MCEP_20',\n",
    "        'MCEP_21',\n",
    "        'MCEP_22',\n",
    "        'MCEP_23',\n",
    "        'MCEP_24',\n",
    "\n",
    "        'HMPDM_0',\n",
    "        'HMPDM_1',\n",
    "        'HMPDM_2',\n",
    "        'HMPDM_3',\n",
    "        'HMPDM_4',\n",
    "        'HMPDM_5',\n",
    "        'HMPDM_6',\n",
    "        'HMPDM_7',\n",
    "        'HMPDM_8',\n",
    "        'HMPDM_9',\n",
    "        'HMPDM_10',\n",
    "        'HMPDM_11',\n",
    "        'HMPDM_12',\n",
    "        'HMPDM_13',\n",
    "        'HMPDM_14',\n",
    "        'HMPDM_15',\n",
    "        'HMPDM_16',\n",
    "        'HMPDM_17',\n",
    "        'HMPDM_18',\n",
    "        'HMPDM_19',\n",
    "        'HMPDM_20',\n",
    "        'HMPDM_21',\n",
    "        'HMPDM_22',\n",
    "        'HMPDM_23',\n",
    "        'HMPDM_24',\n",
    "\n",
    "        'HMPDD_0',\n",
    "        'HMPDD_1',\n",
    "        'HMPDD_2',\n",
    "        'HMPDD_3',\n",
    "        'HMPDD_4',\n",
    "        'HMPDD_5',\n",
    "        'HMPDD_6',\n",
    "        'HMPDD_7',\n",
    "        'HMPDD_8',  \n",
    "        'HMPDD_9',\n",
    "        'HMPDD_10',\n",
    "        'HMPDD_11',\n",
    "        'HMPDD_12',\n",
    "    ]\n",
    "    covarep_features.columns = COVAREP_FEATURES\n",
    "    covarep_features\n",
    "    return covarep_features"
   ],
   "metadata": {
    "collapsed": false,
    "ExecuteTime": {
     "end_time": "2024-10-24T16:17:41.592985Z",
     "start_time": "2024-10-24T16:17:41.591315Z"
    }
   },
   "id": "72e32778c86381ff",
   "execution_count": 87
  },
  {
   "cell_type": "code",
   "outputs": [
    {
     "data": {
      "text/plain": "       FORMANT_F1  FORMANT_F2  FORMANT_F3  FORMANT_F4  FORMANT_F5  COVAREP_F0  \\\n0          738.36      1809.7      2605.3      3911.3      4616.0         0.0   \n1          788.51      1738.3      2327.8      2971.0      4256.0         0.0   \n2          800.84      1661.1      2231.4      2831.1      4090.1         0.0   \n3          765.59      1666.9      2526.0      3311.4      4298.3         0.0   \n4          800.46      1518.4      2609.0      3267.2      4465.6         0.0   \n...           ...         ...         ...         ...         ...         ...   \n58715      996.50      1836.0      2891.0      4082.0      4828.0         0.0   \n58716      937.50      1902.5      3031.5      3918.0      4687.5         0.0   \n58717      793.00      1848.0      3617.0      4019.5      4625.0         0.0   \n58718      793.00      1727.0      2957.0      3683.5      4425.5         0.0   \n58719      882.50      1848.0      2434.0      3656.5      2074.0         NaN   \n\n       COVAREP_VUV  COVAREP_NAQ  COVAREP_QOQ  COVAREP_H1H2  ...  \\\n0              0.0          0.0          0.0           0.0  ...   \n1              0.0          0.0          0.0           0.0  ...   \n2              0.0          0.0          0.0           0.0  ...   \n3              0.0          0.0          0.0           0.0  ...   \n4              0.0          0.0          0.0           0.0  ...   \n...            ...          ...          ...           ...  ...   \n58715          0.0          0.0          0.0           0.0  ...   \n58716          0.0          0.0          0.0           0.0  ...   \n58717          0.0          0.0          0.0           0.0  ...   \n58718          0.0          0.0          0.0           0.0  ...   \n58719          NaN          NaN          NaN           NaN  ...   \n\n       COVAREP_HMPDD_6  COVAREP_HMPDD_7  COVAREP_HMPDD_8  COVAREP_HMPDD_9  \\\n0                  0.0              0.0              0.0              0.0   \n1                  0.0              0.0              0.0              0.0   \n2                  0.0              0.0              0.0              0.0   \n3                  0.0              0.0              0.0              0.0   \n4                  0.0              0.0              0.0              0.0   \n...                ...              ...              ...              ...   \n58715              0.0              0.0              0.0              0.0   \n58716              0.0              0.0              0.0              0.0   \n58717              0.0              0.0              0.0              0.0   \n58718              0.0              0.0              0.0              0.0   \n58719              NaN              NaN              NaN              NaN   \n\n       COVAREP_HMPDD_10  COVAREP_HMPDD_11  COVAREP_HMPDD_12   ID  PHQ_Binary  \\\n0                   0.0               0.0               0.0  475           0   \n1                   0.0               0.0               0.0  475           0   \n2                   0.0               0.0               0.0  475           0   \n3                   0.0               0.0               0.0  475           0   \n4                   0.0               0.0               0.0  475           0   \n...                 ...               ...               ...  ...         ...   \n58715               0.0               0.0               0.0  475           0   \n58716               0.0               0.0               0.0  475           0   \n58717               0.0               0.0               0.0  475           0   \n58718               0.0               0.0               0.0  475           0   \n58719               NaN               NaN               NaN  475           0   \n\n       TIMESTAMP  \n0           0.00  \n1           0.01  \n2           0.02  \n3           0.03  \n4           0.04  \n...          ...  \n58715     587.15  \n58716     587.16  \n58717     587.17  \n58718     587.18  \n58719     587.19  \n\n[58720 rows x 82 columns]",
      "text/html": "<div>\n<style scoped>\n    .dataframe tbody tr th:only-of-type {\n        vertical-align: middle;\n    }\n\n    .dataframe tbody tr th {\n        vertical-align: top;\n    }\n\n    .dataframe thead th {\n        text-align: right;\n    }\n</style>\n<table border=\"1\" class=\"dataframe\">\n  <thead>\n    <tr style=\"text-align: right;\">\n      <th></th>\n      <th>FORMANT_F1</th>\n      <th>FORMANT_F2</th>\n      <th>FORMANT_F3</th>\n      <th>FORMANT_F4</th>\n      <th>FORMANT_F5</th>\n      <th>COVAREP_F0</th>\n      <th>COVAREP_VUV</th>\n      <th>COVAREP_NAQ</th>\n      <th>COVAREP_QOQ</th>\n      <th>COVAREP_H1H2</th>\n      <th>...</th>\n      <th>COVAREP_HMPDD_6</th>\n      <th>COVAREP_HMPDD_7</th>\n      <th>COVAREP_HMPDD_8</th>\n      <th>COVAREP_HMPDD_9</th>\n      <th>COVAREP_HMPDD_10</th>\n      <th>COVAREP_HMPDD_11</th>\n      <th>COVAREP_HMPDD_12</th>\n      <th>ID</th>\n      <th>PHQ_Binary</th>\n      <th>TIMESTAMP</th>\n    </tr>\n  </thead>\n  <tbody>\n    <tr>\n      <th>0</th>\n      <td>738.36</td>\n      <td>1809.7</td>\n      <td>2605.3</td>\n      <td>3911.3</td>\n      <td>4616.0</td>\n      <td>0.0</td>\n      <td>0.0</td>\n      <td>0.0</td>\n      <td>0.0</td>\n      <td>0.0</td>\n      <td>...</td>\n      <td>0.0</td>\n      <td>0.0</td>\n      <td>0.0</td>\n      <td>0.0</td>\n      <td>0.0</td>\n      <td>0.0</td>\n      <td>0.0</td>\n      <td>475</td>\n      <td>0</td>\n      <td>0.00</td>\n    </tr>\n    <tr>\n      <th>1</th>\n      <td>788.51</td>\n      <td>1738.3</td>\n      <td>2327.8</td>\n      <td>2971.0</td>\n      <td>4256.0</td>\n      <td>0.0</td>\n      <td>0.0</td>\n      <td>0.0</td>\n      <td>0.0</td>\n      <td>0.0</td>\n      <td>...</td>\n      <td>0.0</td>\n      <td>0.0</td>\n      <td>0.0</td>\n      <td>0.0</td>\n      <td>0.0</td>\n      <td>0.0</td>\n      <td>0.0</td>\n      <td>475</td>\n      <td>0</td>\n      <td>0.01</td>\n    </tr>\n    <tr>\n      <th>2</th>\n      <td>800.84</td>\n      <td>1661.1</td>\n      <td>2231.4</td>\n      <td>2831.1</td>\n      <td>4090.1</td>\n      <td>0.0</td>\n      <td>0.0</td>\n      <td>0.0</td>\n      <td>0.0</td>\n      <td>0.0</td>\n      <td>...</td>\n      <td>0.0</td>\n      <td>0.0</td>\n      <td>0.0</td>\n      <td>0.0</td>\n      <td>0.0</td>\n      <td>0.0</td>\n      <td>0.0</td>\n      <td>475</td>\n      <td>0</td>\n      <td>0.02</td>\n    </tr>\n    <tr>\n      <th>3</th>\n      <td>765.59</td>\n      <td>1666.9</td>\n      <td>2526.0</td>\n      <td>3311.4</td>\n      <td>4298.3</td>\n      <td>0.0</td>\n      <td>0.0</td>\n      <td>0.0</td>\n      <td>0.0</td>\n      <td>0.0</td>\n      <td>...</td>\n      <td>0.0</td>\n      <td>0.0</td>\n      <td>0.0</td>\n      <td>0.0</td>\n      <td>0.0</td>\n      <td>0.0</td>\n      <td>0.0</td>\n      <td>475</td>\n      <td>0</td>\n      <td>0.03</td>\n    </tr>\n    <tr>\n      <th>4</th>\n      <td>800.46</td>\n      <td>1518.4</td>\n      <td>2609.0</td>\n      <td>3267.2</td>\n      <td>4465.6</td>\n      <td>0.0</td>\n      <td>0.0</td>\n      <td>0.0</td>\n      <td>0.0</td>\n      <td>0.0</td>\n      <td>...</td>\n      <td>0.0</td>\n      <td>0.0</td>\n      <td>0.0</td>\n      <td>0.0</td>\n      <td>0.0</td>\n      <td>0.0</td>\n      <td>0.0</td>\n      <td>475</td>\n      <td>0</td>\n      <td>0.04</td>\n    </tr>\n    <tr>\n      <th>...</th>\n      <td>...</td>\n      <td>...</td>\n      <td>...</td>\n      <td>...</td>\n      <td>...</td>\n      <td>...</td>\n      <td>...</td>\n      <td>...</td>\n      <td>...</td>\n      <td>...</td>\n      <td>...</td>\n      <td>...</td>\n      <td>...</td>\n      <td>...</td>\n      <td>...</td>\n      <td>...</td>\n      <td>...</td>\n      <td>...</td>\n      <td>...</td>\n      <td>...</td>\n      <td>...</td>\n    </tr>\n    <tr>\n      <th>58715</th>\n      <td>996.50</td>\n      <td>1836.0</td>\n      <td>2891.0</td>\n      <td>4082.0</td>\n      <td>4828.0</td>\n      <td>0.0</td>\n      <td>0.0</td>\n      <td>0.0</td>\n      <td>0.0</td>\n      <td>0.0</td>\n      <td>...</td>\n      <td>0.0</td>\n      <td>0.0</td>\n      <td>0.0</td>\n      <td>0.0</td>\n      <td>0.0</td>\n      <td>0.0</td>\n      <td>0.0</td>\n      <td>475</td>\n      <td>0</td>\n      <td>587.15</td>\n    </tr>\n    <tr>\n      <th>58716</th>\n      <td>937.50</td>\n      <td>1902.5</td>\n      <td>3031.5</td>\n      <td>3918.0</td>\n      <td>4687.5</td>\n      <td>0.0</td>\n      <td>0.0</td>\n      <td>0.0</td>\n      <td>0.0</td>\n      <td>0.0</td>\n      <td>...</td>\n      <td>0.0</td>\n      <td>0.0</td>\n      <td>0.0</td>\n      <td>0.0</td>\n      <td>0.0</td>\n      <td>0.0</td>\n      <td>0.0</td>\n      <td>475</td>\n      <td>0</td>\n      <td>587.16</td>\n    </tr>\n    <tr>\n      <th>58717</th>\n      <td>793.00</td>\n      <td>1848.0</td>\n      <td>3617.0</td>\n      <td>4019.5</td>\n      <td>4625.0</td>\n      <td>0.0</td>\n      <td>0.0</td>\n      <td>0.0</td>\n      <td>0.0</td>\n      <td>0.0</td>\n      <td>...</td>\n      <td>0.0</td>\n      <td>0.0</td>\n      <td>0.0</td>\n      <td>0.0</td>\n      <td>0.0</td>\n      <td>0.0</td>\n      <td>0.0</td>\n      <td>475</td>\n      <td>0</td>\n      <td>587.17</td>\n    </tr>\n    <tr>\n      <th>58718</th>\n      <td>793.00</td>\n      <td>1727.0</td>\n      <td>2957.0</td>\n      <td>3683.5</td>\n      <td>4425.5</td>\n      <td>0.0</td>\n      <td>0.0</td>\n      <td>0.0</td>\n      <td>0.0</td>\n      <td>0.0</td>\n      <td>...</td>\n      <td>0.0</td>\n      <td>0.0</td>\n      <td>0.0</td>\n      <td>0.0</td>\n      <td>0.0</td>\n      <td>0.0</td>\n      <td>0.0</td>\n      <td>475</td>\n      <td>0</td>\n      <td>587.18</td>\n    </tr>\n    <tr>\n      <th>58719</th>\n      <td>882.50</td>\n      <td>1848.0</td>\n      <td>2434.0</td>\n      <td>3656.5</td>\n      <td>2074.0</td>\n      <td>NaN</td>\n      <td>NaN</td>\n      <td>NaN</td>\n      <td>NaN</td>\n      <td>NaN</td>\n      <td>...</td>\n      <td>NaN</td>\n      <td>NaN</td>\n      <td>NaN</td>\n      <td>NaN</td>\n      <td>NaN</td>\n      <td>NaN</td>\n      <td>NaN</td>\n      <td>475</td>\n      <td>0</td>\n      <td>587.19</td>\n    </tr>\n  </tbody>\n</table>\n<p>58720 rows × 82 columns</p>\n</div>"
     },
     "execution_count": 91,
     "metadata": {},
     "output_type": "execute_result"
    }
   ],
   "source": [
    "from IPython.display import clear_output\n",
    "\n",
    "df_audio = pd.DataFrame()\n",
    "\n",
    "for i in df_audio_files.index:\n",
    "    df_concat = pd.DataFrame()\n",
    "    \n",
    "    # preprocess all the features\n",
    "    #audio = preprocess_AUDIO(df_audio_files['AUDIO'][i]).add_prefix('AUDIO_') TODO: figure out if you can even get anything useful from audio\n",
    "    formant = preprocess_FORMANT(df_audio_files['FORMANT'][i]).add_prefix('FORMANT_')\n",
    "    covarep = preprocess_COVAREP(df_audio_files['COVAREP'][i]).add_prefix('COVAREP_')\n",
    " \n",
    "    # concatenate all the features\n",
    "    df_concat = pd.concat([ formant, covarep], axis=1) #TODO: add audio later\n",
    "\n",
    "    # ensure the ID is a valid value and assign it as a column\n",
    "    df_concat['ID'] = df_audio_files['ID'].iloc[i]\n",
    "    \n",
    "    # add PHQ binary and timestamps\n",
    "    df_concat = append_PHQ_Binary(df_concat)\n",
    "    df_concat = add_timestamps(df_concat)\n",
    "    \n",
    "    # append to the main DataFrame\n",
    "    df_audio = df_audio._append(df_concat, ignore_index=True)\n",
    "    \n",
    "    clear_output()\n",
    "    print(\"finished processing file\", i) \n",
    "\n",
    "clear_output()\n",
    "df_audio \n"
   ],
   "metadata": {
    "collapsed": false
   },
   "id": "5acc3f2d79ee0394",
   "execution_count": 91
  },
  {
   "cell_type": "code",
   "outputs": [
    {
     "ename": "KeyError",
     "evalue": "\"None of ['TIMESTAMP'] are in the columns\"",
     "output_type": "error",
     "traceback": [
      "\u001B[0;31m---------------------------------------------------------------------------\u001B[0m",
      "\u001B[0;31mKeyError\u001B[0m                                  Traceback (most recent call last)",
      "\u001B[0;32m/var/folders/7z/vthwfhrj4038flrlbnclw7tw0000gn/T/ipykernel_49622/143901353.py\u001B[0m in \u001B[0;36m?\u001B[0;34m()\u001B[0m\n\u001B[0;32m----> 2\u001B[0;31m \u001B[0;31m# down-sampling the high frequency audio data to match the low frequency facial data for multi-modality\u001B[0m\u001B[0;34m\u001B[0m\u001B[0;34m\u001B[0m\u001B[0;34m\u001B[0m\u001B[0m\n\u001B[0m\u001B[1;32m      3\u001B[0m \u001B[0mdf_audio\u001B[0m\u001B[0;34m.\u001B[0m\u001B[0mset_index\u001B[0m\u001B[0;34m(\u001B[0m\u001B[0;34m'TIMESTAMP'\u001B[0m\u001B[0;34m,\u001B[0m \u001B[0minplace\u001B[0m\u001B[0;34m=\u001B[0m\u001B[0;32mTrue\u001B[0m\u001B[0;34m)\u001B[0m\u001B[0;34m\u001B[0m\u001B[0;34m\u001B[0m\u001B[0m\n\u001B[1;32m      4\u001B[0m \u001B[0mpd\u001B[0m\u001B[0;34m.\u001B[0m\u001B[0mto_timedelta\u001B[0m\u001B[0;34m(\u001B[0m\u001B[0mdf_audio\u001B[0m\u001B[0;34m.\u001B[0m\u001B[0mindex\u001B[0m \u001B[0;34m,\u001B[0m \u001B[0munit\u001B[0m\u001B[0;34m=\u001B[0m\u001B[0;34m's'\u001B[0m\u001B[0;34m)\u001B[0m\u001B[0;34m\u001B[0m\u001B[0;34m\u001B[0m\u001B[0m\n\u001B[1;32m      5\u001B[0m \u001B[0mdf_audio\u001B[0m \u001B[0;34m=\u001B[0m \u001B[0mdf_audio\u001B[0m\u001B[0;34m.\u001B[0m\u001B[0mresample\u001B[0m\u001B[0;34m(\u001B[0m\u001B[0;34m'33ms'\u001B[0m\u001B[0;34m)\u001B[0m\u001B[0;34m.\u001B[0m\u001B[0mmean\u001B[0m\u001B[0;34m(\u001B[0m\u001B[0;34m)\u001B[0m\u001B[0;34m\u001B[0m\u001B[0;34m\u001B[0m\u001B[0m\n",
      "\u001B[0;32m~/College/Diplomski/Code/multimodal_depression_detection/DepressionDetection/.venv/lib/python3.9/site-packages/pandas/core/frame.py\u001B[0m in \u001B[0;36m?\u001B[0;34m(self, keys, drop, append, inplace, verify_integrity)\u001B[0m\n\u001B[1;32m   6118\u001B[0m                     \u001B[0;32mif\u001B[0m \u001B[0;32mnot\u001B[0m \u001B[0mfound\u001B[0m\u001B[0;34m:\u001B[0m\u001B[0;34m\u001B[0m\u001B[0;34m\u001B[0m\u001B[0m\n\u001B[1;32m   6119\u001B[0m                         \u001B[0mmissing\u001B[0m\u001B[0;34m.\u001B[0m\u001B[0mappend\u001B[0m\u001B[0;34m(\u001B[0m\u001B[0mcol\u001B[0m\u001B[0;34m)\u001B[0m\u001B[0;34m\u001B[0m\u001B[0;34m\u001B[0m\u001B[0m\n\u001B[1;32m   6120\u001B[0m \u001B[0;34m\u001B[0m\u001B[0m\n\u001B[1;32m   6121\u001B[0m         \u001B[0;32mif\u001B[0m \u001B[0mmissing\u001B[0m\u001B[0;34m:\u001B[0m\u001B[0;34m\u001B[0m\u001B[0;34m\u001B[0m\u001B[0m\n\u001B[0;32m-> 6122\u001B[0;31m             \u001B[0;32mraise\u001B[0m \u001B[0mKeyError\u001B[0m\u001B[0;34m(\u001B[0m\u001B[0;34mf\"None of {missing} are in the columns\"\u001B[0m\u001B[0;34m)\u001B[0m\u001B[0;34m\u001B[0m\u001B[0;34m\u001B[0m\u001B[0m\n\u001B[0m\u001B[1;32m   6123\u001B[0m \u001B[0;34m\u001B[0m\u001B[0m\n\u001B[1;32m   6124\u001B[0m         \u001B[0;32mif\u001B[0m \u001B[0minplace\u001B[0m\u001B[0;34m:\u001B[0m\u001B[0;34m\u001B[0m\u001B[0;34m\u001B[0m\u001B[0m\n\u001B[1;32m   6125\u001B[0m             \u001B[0mframe\u001B[0m \u001B[0;34m=\u001B[0m \u001B[0mself\u001B[0m\u001B[0;34m\u001B[0m\u001B[0;34m\u001B[0m\u001B[0m\n",
      "\u001B[0;31mKeyError\u001B[0m: \"None of ['TIMESTAMP'] are in the columns\""
     ]
    }
   ],
   "source": [
    "# down-sampling the high frequency audio data to match the low frequency facial data for multi-modality\n",
    "df_audio.set_index('TIMESTAMP', inplace=True)\n",
    "pd.to_timedelta(df_audio.index , unit='s')\n",
    "df_audio = df_audio.resample('33ms').mean()\n"
   ],
   "metadata": {
    "collapsed": false,
    "ExecuteTime": {
     "end_time": "2024-10-27T17:04:08.636297Z",
     "start_time": "2024-10-27T17:04:08.624984Z"
    }
   },
   "id": "3ff4e9f9a1cd9710",
   "execution_count": 96
  }
 ],
 "metadata": {
  "kernelspec": {
   "display_name": "Python 3",
   "language": "python",
   "name": "python3"
  },
  "language_info": {
   "codemirror_mode": {
    "name": "ipython",
    "version": 2
   },
   "file_extension": ".py",
   "mimetype": "text/x-python",
   "name": "python",
   "nbconvert_exporter": "python",
   "pygments_lexer": "ipython2",
   "version": "2.7.6"
  }
 },
 "nbformat": 4,
 "nbformat_minor": 5
}
