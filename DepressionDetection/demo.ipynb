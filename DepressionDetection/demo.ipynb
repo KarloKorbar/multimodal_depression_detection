{
 "cells": [
  {
   "cell_type": "code",
   "execution_count": 7,
   "metadata": {},
   "outputs": [],
   "source": [
    "from data_load.loader import ResultsLoader, TextLoader, AudioLoader, FaceLoader\n",
    "\n",
    "# Initialize loaders\n",
    "results_loader = ResultsLoader()\n",
    "text_loader = TextLoader() \n",
    "audio_loader = AudioLoader()\n",
    "face_loader = FaceLoader()\n",
    "\n",
    "# Get balanced subset of data (20% of total data)\n",
    "percentage = 0.02\n",
    "random_state = 42\n"
   ]
  },
  {
   "cell_type": "code",
   "execution_count": 8,
   "metadata": {},
   "outputs": [
    {
     "name": "stdout",
     "output_type": "stream",
     "text": [
      "\n",
      "Results data shape: (2, 1)\n",
      "\n",
      "Results data preview:\n",
      "     PHQ_Binary\n",
      "ID             \n",
      "386           1\n",
      "391           0\n"
     ]
    }
   ],
   "source": [
    "\n",
    "# Load results data\n",
    "results_df = results_loader.get_data(percentage=percentage, random_state=random_state)\n",
    "print(\"\\nResults data shape:\", results_df.shape)\n",
    "print(\"\\nResults data preview:\")\n",
    "print(results_df.head())\n"
   ]
  },
  {
   "cell_type": "code",
   "execution_count": 9,
   "metadata": {},
   "outputs": [
    {
     "name": "stdout",
     "output_type": "stream",
     "text": [
      "\n",
      "Text features shape: (2, 1)\n",
      "\n",
      "Text features preview:\n",
      "                                       TRANSCRIPT_text\n",
      "ID                                                    \n",
      "386  synch introv4confirmation hi im ellie thanks f...\n",
      "391  sync introv4confirmation hi im ellie thanks fo...\n"
     ]
    }
   ],
   "source": [
    "\n",
    "# Load text features\n",
    "text_df = text_loader.get_data(percentage=percentage, random_state=random_state)\n",
    "print(\"\\nText features shape:\", text_df.shape)\n",
    "print(\"\\nText features preview:\")\n",
    "print(text_df.head())\n"
   ]
  },
  {
   "cell_type": "code",
   "execution_count": 10,
   "metadata": {},
   "outputs": [
    {
     "name": "stdout",
     "output_type": "stream",
     "text": [
      "\n",
      "Audio features shape: (173, 80)\n",
      "\n",
      "Audio features preview:\n",
      "                     AUDIO_AMPLITUDE  FORMANT_F1  FORMANT_F2  FORMANT_F3  \\\n",
      "ID  TIMESTAMP                                                              \n",
      "386 0 days 00:00:00        -0.000048  616.206600  1571.05937  2554.39041   \n",
      "    0 days 00:00:10        -0.000021  719.887378  1726.74306  2604.00720   \n",
      "    0 days 00:00:20        -0.000019  612.623780  1657.20697  2569.88200   \n",
      "    0 days 00:00:30        -0.000018  536.712790  1657.41013  2599.18730   \n",
      "    0 days 00:00:40        -0.000022  470.127492  1633.53475  2605.33350   \n",
      "\n",
      "                     FORMANT_F4  FORMANT_F5  COVAREP_F0  COVAREP_VUV  \\\n",
      "ID  TIMESTAMP                                                          \n",
      "386 0 days 00:00:00   3445.9205   4352.0802  245.137862     0.135864   \n",
      "    0 days 00:00:10   3483.4309   4403.4083  250.681000     0.045000   \n",
      "    0 days 00:00:20   3456.0944   4344.0295  248.715000     0.447000   \n",
      "    0 days 00:00:30   3511.1177   4367.7521  234.705000     0.432000   \n",
      "    0 days 00:00:40   3511.1365   4338.1031  220.724000     0.512000   \n",
      "\n",
      "                     COVAREP_NAQ  COVAREP_QOQ  ...  COVAREP_HMPDD_3  \\\n",
      "ID  TIMESTAMP                                  ...                    \n",
      "386 0 days 00:00:00     0.056730     0.149584  ...        -1.062799   \n",
      "    0 days 00:00:10     0.042286     0.104357  ...        -1.052954   \n",
      "    0 days 00:00:20     0.057813     0.177422  ...        -1.153109   \n",
      "    0 days 00:00:30     0.057716     0.172310  ...        -1.110354   \n",
      "    0 days 00:00:40     0.062179     0.199344  ...        -1.129166   \n",
      "\n",
      "                     COVAREP_HMPDD_4  COVAREP_HMPDD_5  COVAREP_HMPDD_6  \\\n",
      "ID  TIMESTAMP                                                            \n",
      "386 0 days 00:00:00        -0.910910        -0.758521        -0.613507   \n",
      "    0 days 00:00:10        -0.925207        -0.766942        -0.607204   \n",
      "    0 days 00:00:20        -0.958462        -0.744294        -0.547146   \n",
      "    0 days 00:00:30        -0.951042        -0.752529        -0.588987   \n",
      "    0 days 00:00:40        -0.958056        -0.773425        -0.608138   \n",
      "\n",
      "                     COVAREP_HMPDD_7  COVAREP_HMPDD_8  COVAREP_HMPDD_9  \\\n",
      "ID  TIMESTAMP                                                            \n",
      "386 0 days 00:00:00        -0.478457        -0.375517        -0.274640   \n",
      "    0 days 00:00:10        -0.481018        -0.377985        -0.286668   \n",
      "    0 days 00:00:20        -0.379929        -0.244665        -0.128930   \n",
      "    0 days 00:00:30        -0.437365        -0.304667        -0.201107   \n",
      "    0 days 00:00:40        -0.461581        -0.311399        -0.188094   \n",
      "\n",
      "                     COVAREP_HMPDD_10  COVAREP_HMPDD_11  COVAREP_HMPDD_12  \n",
      "ID  TIMESTAMP                                                              \n",
      "386 0 days 00:00:00         -0.181269         -0.112634         -0.051552  \n",
      "    0 days 00:00:10         -0.210696         -0.138245         -0.087930  \n",
      "    0 days 00:00:20         -0.052521         -0.002873          0.032831  \n",
      "    0 days 00:00:30         -0.129641         -0.062379         -0.012266  \n",
      "    0 days 00:00:40         -0.109726         -0.051157          0.013474  \n",
      "\n",
      "[5 rows x 80 columns]\n"
     ]
    }
   ],
   "source": [
    "\n",
    "# Load audio features with 50ms downsampling and 10s rolling window\n",
    "audio_df = audio_loader.get_data(\n",
    "    percentage=percentage,\n",
    "    random_state=random_state,\n",
    "    ds_freq=\"10s\",\n",
    "    rw_size=\"10s\"\n",
    ")\n",
    "print(\"\\nAudio features shape:\", audio_df.shape)\n",
    "print(\"\\nAudio features preview:\")\n",
    "print(audio_df.head())\n"
   ]
  },
  {
   "cell_type": "code",
   "execution_count": 12,
   "metadata": {},
   "outputs": [
    {
     "name": "stdout",
     "output_type": "stream",
     "text": [
      "\n",
      "Face features shape: (173, 4858)\n",
      "\n",
      "Face features preview:\n",
      "                     CLNFgaze_frame  CLNFgaze_confidence  CLNFgaze_success  \\\n",
      "ID  TIMESTAMP                                                                \n",
      "386 0 days 00:00:00           150.5             0.843113          0.823333   \n",
      "    0 days 00:00:10           450.5             0.862236          0.853333   \n",
      "    0 days 00:00:20           750.5             0.976928          1.000000   \n",
      "    0 days 00:00:30          1050.5             0.980110          1.000000   \n",
      "    0 days 00:00:40          1350.5             0.981177          1.000000   \n",
      "\n",
      "                     CLNFgaze_x_0  CLNFgaze_y_0  CLNFgaze_z_0  CLNFgaze_x_1  \\\n",
      "ID  TIMESTAMP                                                                 \n",
      "386 0 days 00:00:00      0.020882      0.114932     -0.985159     -0.187369   \n",
      "    0 days 00:00:10      0.060876      0.158891     -0.979911     -0.185456   \n",
      "    0 days 00:00:20      0.048942      0.159756     -0.984069     -0.185223   \n",
      "    0 days 00:00:30      0.051738      0.165190     -0.983668     -0.174363   \n",
      "    0 days 00:00:40      0.049782      0.190049     -0.979635     -0.177583   \n",
      "\n",
      "                     CLNFgaze_y_1  CLNFgaze_z_1  CLNFgaze_x_h0  ...  \\\n",
      "ID  TIMESTAMP                                                   ...   \n",
      "386 0 days 00:00:00      0.090528     -0.967401       0.113978  ...   \n",
      "    0 days 00:00:10      0.139311     -0.964433       0.013874  ...   \n",
      "    0 days 00:00:20      0.131315     -0.971070       0.017197  ...   \n",
      "    0 days 00:00:30      0.125572     -0.974557       0.018452  ...   \n",
      "    0 days 00:00:40      0.144044     -0.972055       0.019017  ...   \n",
      "\n",
      "                     CLNFfeatures3D_Z58  CLNFfeatures3D_Z59  \\\n",
      "ID  TIMESTAMP                                                 \n",
      "386 0 days 00:00:00          519.613237          523.152257   \n",
      "    0 days 00:00:10          540.856410          546.058773   \n",
      "    0 days 00:00:20          519.459970          525.978237   \n",
      "    0 days 00:00:30          517.561633          524.068173   \n",
      "    0 days 00:00:40          520.462397          527.595803   \n",
      "\n",
      "                     CLNFfeatures3D_Z60  CLNFfeatures3D_Z61  \\\n",
      "ID  TIMESTAMP                                                 \n",
      "386 0 days 00:00:00          528.202373          518.264610   \n",
      "    0 days 00:00:10          553.371500          541.709443   \n",
      "    0 days 00:00:20          534.036180          519.386260   \n",
      "    0 days 00:00:30          531.824040          517.852453   \n",
      "    0 days 00:00:40          536.371060          521.483213   \n",
      "\n",
      "                     CLNFfeatures3D_Z62  CLNFfeatures3D_Z63  \\\n",
      "ID  TIMESTAMP                                                 \n",
      "386 0 days 00:00:00          518.100117          519.839193   \n",
      "    0 days 00:00:10          540.995380          542.620157   \n",
      "    0 days 00:00:20          517.987757          519.218117   \n",
      "    0 days 00:00:30          516.574410          517.831330   \n",
      "    0 days 00:00:40          520.167687          521.482317   \n",
      "\n",
      "                     CLNFfeatures3D_Z64  CLNFfeatures3D_Z65  \\\n",
      "ID  TIMESTAMP                                                 \n",
      "386 0 days 00:00:00          532.822607          520.049250   \n",
      "    0 days 00:00:10          554.739960          541.980917   \n",
      "    0 days 00:00:20          532.433600          519.407463   \n",
      "    0 days 00:00:30          530.468837          517.485713   \n",
      "    0 days 00:00:40          534.919837          520.823793   \n",
      "\n",
      "                     CLNFfeatures3D_Z66  CLNFfeatures3D_Z67  \n",
      "ID  TIMESTAMP                                                \n",
      "386 0 days 00:00:00          518.517100          518.821843  \n",
      "    0 days 00:00:10          540.564557          541.449437  \n",
      "    0 days 00:00:20          518.413260          519.975663  \n",
      "    0 days 00:00:30          516.407047          517.912367  \n",
      "    0 days 00:00:40          519.626513          521.243973  \n",
      "\n",
      "[5 rows x 4858 columns]\n"
     ]
    }
   ],
   "source": [
    "\n",
    "# Load face features with 50ms downsampling and 10s rolling window\n",
    "face_df = face_loader.get_data(\n",
    "    percentage=percentage,\n",
    "    random_state=random_state,\n",
    "    ds_freq=\"10s\",\n",
    "    rw_size=\"10s\"\n",
    ")\n",
    "print(\"\\nFace features shape:\", face_df.shape)\n",
    "print(\"\\nFace features preview:\")\n",
    "print(face_df.head())\n"
   ]
  }
 ],
 "metadata": {
  "kernelspec": {
   "display_name": ".venv",
   "language": "python",
   "name": "python3"
  },
  "language_info": {
   "codemirror_mode": {
    "name": "ipython",
    "version": 3
   },
   "file_extension": ".py",
   "mimetype": "text/x-python",
   "name": "python",
   "nbconvert_exporter": "python",
   "pygments_lexer": "ipython3",
   "version": "3.9.6"
  }
 },
 "nbformat": 4,
 "nbformat_minor": 2
}
