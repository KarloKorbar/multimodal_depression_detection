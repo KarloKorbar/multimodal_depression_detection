{
 "cells": [
  {
   "cell_type": "code",
   "execution_count": 84,
   "id": "initial_id",
   "metadata": {
    "collapsed": true,
    "ExecuteTime": {
     "end_time": "2024-10-12T19:48:09.615093Z",
     "start_time": "2024-10-12T19:48:09.607420Z"
    }
   },
   "outputs": [],
   "source": [
    "%run UTILS.ipynb\n",
    "\n",
    "import pandas as pd\n",
    "import re"
   ]
  },
  {
   "cell_type": "code",
   "outputs": [
    {
     "data": {
      "text/plain": "    ID                     TRANSCRIPT\n0  475  data/475_P/475_TRANSCRIPT.csv",
      "text/html": "<div>\n<style scoped>\n    .dataframe tbody tr th:only-of-type {\n        vertical-align: middle;\n    }\n\n    .dataframe tbody tr th {\n        vertical-align: top;\n    }\n\n    .dataframe thead th {\n        text-align: right;\n    }\n</style>\n<table border=\"1\" class=\"dataframe\">\n  <thead>\n    <tr style=\"text-align: right;\">\n      <th></th>\n      <th>ID</th>\n      <th>TRANSCRIPT</th>\n    </tr>\n  </thead>\n  <tbody>\n    <tr>\n      <th>0</th>\n      <td>475</td>\n      <td>data/475_P/475_TRANSCRIPT.csv</td>\n    </tr>\n  </tbody>\n</table>\n</div>"
     },
     "execution_count": 88,
     "metadata": {},
     "output_type": "execute_result"
    }
   ],
   "source": [
    "text_files = [\n",
    "    'TRANSCRIPT.csv',\n",
    "    \n",
    "]\n",
    "\n",
    "df_text_files = retrieve_files(base_directory, text_files, num_folders=1)\n",
    "df_text_files"
   ],
   "metadata": {
    "collapsed": false,
    "ExecuteTime": {
     "end_time": "2024-10-27T20:05:28.252085Z",
     "start_time": "2024-10-27T20:05:28.239513Z"
    }
   },
   "id": "c1785514417fcfb2",
   "execution_count": 88
  },
  {
   "cell_type": "code",
   "outputs": [],
   "source": [
    "def preprocess_TRANSCRIPT(path):\n",
    "    df = pd.read_csv(path, delimiter='\\t')\n",
    "    # Combine all rows of the 'value' column into one string\n",
    "    transcript = ' '.join(df['value'].astype(str).tolist())\n",
    "    # Clean the text\n",
    "    transcript = re.sub(r'[^\\w\\s]', '', transcript.lower())\n",
    "    return transcript\n"
   ],
   "metadata": {
    "collapsed": false,
    "ExecuteTime": {
     "end_time": "2024-10-12T19:48:09.628725Z",
     "start_time": "2024-10-12T19:48:09.623418Z"
    }
   },
   "id": "c6b0ec0f1a7c59f9",
   "execution_count": 86
  },
  {
   "cell_type": "code",
   "outputs": [
    {
     "data": {
      "text/plain": "    ID                                         TRANSCRIPT  PHQ_Binary\n0  475  synch introv4confirmation hi im ellie thanks f...           0",
      "text/html": "<div>\n<style scoped>\n    .dataframe tbody tr th:only-of-type {\n        vertical-align: middle;\n    }\n\n    .dataframe tbody tr th {\n        vertical-align: top;\n    }\n\n    .dataframe thead th {\n        text-align: right;\n    }\n</style>\n<table border=\"1\" class=\"dataframe\">\n  <thead>\n    <tr style=\"text-align: right;\">\n      <th></th>\n      <th>ID</th>\n      <th>TRANSCRIPT</th>\n      <th>PHQ_Binary</th>\n    </tr>\n  </thead>\n  <tbody>\n    <tr>\n      <th>0</th>\n      <td>475</td>\n      <td>synch introv4confirmation hi im ellie thanks f...</td>\n      <td>0</td>\n    </tr>\n  </tbody>\n</table>\n</div>"
     },
     "execution_count": 87,
     "metadata": {},
     "output_type": "execute_result"
    }
   ],
   "source": [
    "from IPython.display import clear_output\n",
    "\n",
    "df_text = pd.DataFrame()\n",
    "\n",
    "for i in df_text_files.index:\n",
    "    \n",
    "    df_concat = pd.DataFrame()\n",
    "    # preprocess all the features\n",
    "    transcript = pd.DataFrame([preprocess_TRANSCRIPT(df_text_files['TRANSCRIPT'][i])]).add_prefix('TRANSCRIPT')\n",
    "    # add ID and concatenate all the features\n",
    "    df_concat['ID'] = pd.DataFrame([df_text_files['ID'][i]])\n",
    "    \n",
    "    df_concat['TRANSCRIPT'] = transcript\n",
    "    # add PHQ binary\n",
    "    df_concat = append_PHQ_Binary(df_concat) \n",
    "    # append\n",
    "    df_text = df_text._append(df_concat, ignore_index=True)\n",
    "    \n",
    "    clear_output()\n",
    "    print(\"finished processing file\", i)\n",
    "clear_output()\n",
    "df_text"
   ],
   "metadata": {
    "collapsed": false
   },
   "id": "a3a4ac81c346c8bb",
   "execution_count": 87
  }
 ],
 "metadata": {
  "kernelspec": {
   "display_name": "Python 3",
   "language": "python",
   "name": "python3"
  },
  "language_info": {
   "codemirror_mode": {
    "name": "ipython",
    "version": 2
   },
   "file_extension": ".py",
   "mimetype": "text/x-python",
   "name": "python",
   "nbconvert_exporter": "python",
   "pygments_lexer": "ipython2",
   "version": "2.7.6"
  }
 },
 "nbformat": 4,
 "nbformat_minor": 5
}
